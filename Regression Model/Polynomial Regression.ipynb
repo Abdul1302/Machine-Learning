{
 "cells": [
  {
   "cell_type": "markdown",
   "id": "716ba1c6",
   "metadata": {},
   "source": [
    "# Polynomial Regression"
   ]
  },
  {
   "cell_type": "markdown",
   "id": "aaa93b96",
   "metadata": {},
   "source": [
    "To describe the connection between x(independent value) and y(dependent value) as an nth degree polynomial constitutes Polynomial Regression, a specific kind of linear regression. Polynomial regression is used to approximate a nonlinear connection between the value of x and the conditional mean of y."
   ]
  },
  {
   "cell_type": "code",
   "execution_count": 2,
   "id": "ea115dd4",
   "metadata": {},
   "outputs": [],
   "source": [
    "import pandas as pd\n",
    "import numpy as np"
   ]
  },
  {
   "cell_type": "code",
   "execution_count": 3,
   "id": "d2f1d8ac",
   "metadata": {},
   "outputs": [
    {
     "data": {
      "text/html": [
       "<div>\n",
       "<style scoped>\n",
       "    .dataframe tbody tr th:only-of-type {\n",
       "        vertical-align: middle;\n",
       "    }\n",
       "\n",
       "    .dataframe tbody tr th {\n",
       "        vertical-align: top;\n",
       "    }\n",
       "\n",
       "    .dataframe thead th {\n",
       "        text-align: right;\n",
       "    }\n",
       "</style>\n",
       "<table border=\"1\" class=\"dataframe\">\n",
       "  <thead>\n",
       "    <tr style=\"text-align: right;\">\n",
       "      <th></th>\n",
       "      <th>diameter</th>\n",
       "      <th>price</th>\n",
       "    </tr>\n",
       "  </thead>\n",
       "  <tbody>\n",
       "    <tr>\n",
       "      <th>0</th>\n",
       "      <td>6</td>\n",
       "      <td>7.0</td>\n",
       "    </tr>\n",
       "    <tr>\n",
       "      <th>1</th>\n",
       "      <td>8</td>\n",
       "      <td>9.0</td>\n",
       "    </tr>\n",
       "    <tr>\n",
       "      <th>2</th>\n",
       "      <td>10</td>\n",
       "      <td>13.0</td>\n",
       "    </tr>\n",
       "    <tr>\n",
       "      <th>3</th>\n",
       "      <td>14</td>\n",
       "      <td>17.5</td>\n",
       "    </tr>\n",
       "    <tr>\n",
       "      <th>4</th>\n",
       "      <td>18</td>\n",
       "      <td>18.0</td>\n",
       "    </tr>\n",
       "  </tbody>\n",
       "</table>\n",
       "</div>"
      ],
      "text/plain": [
       "   diameter  price\n",
       "0         6    7.0\n",
       "1         8    9.0\n",
       "2        10   13.0\n",
       "3        14   17.5\n",
       "4        18   18.0"
      ]
     },
     "execution_count": 3,
     "metadata": {},
     "output_type": "execute_result"
    }
   ],
   "source": [
    "train_data= pd.DataFrame({'diameter':[6,8,10,14,18],'price':[7,9,13,17.5,18]})\n",
    "train_data"
   ]
  },
  {
   "cell_type": "code",
   "execution_count": 4,
   "id": "264de8c1",
   "metadata": {},
   "outputs": [
    {
     "data": {
      "text/plain": [
       "array([ 6,  8, 10, 14, 18], dtype=int64)"
      ]
     },
     "execution_count": 4,
     "metadata": {},
     "output_type": "execute_result"
    }
   ],
   "source": [
    "x_train=train_data['diameter'].values\n",
    "x_train"
   ]
  },
  {
   "cell_type": "code",
   "execution_count": 5,
   "id": "32652aa1",
   "metadata": {},
   "outputs": [
    {
     "data": {
      "text/plain": [
       "array([[ 6],\n",
       "       [ 8],\n",
       "       [10],\n",
       "       [14],\n",
       "       [18]], dtype=int64)"
      ]
     },
     "execution_count": 5,
     "metadata": {},
     "output_type": "execute_result"
    }
   ],
   "source": [
    "x_train=x_train.reshape(5,1)\n",
    "x_train"
   ]
  },
  {
   "cell_type": "code",
   "execution_count": 6,
   "id": "207b5b81",
   "metadata": {},
   "outputs": [
    {
     "data": {
      "text/plain": [
       "array([ 7. ,  9. , 13. , 17.5, 18. ])"
      ]
     },
     "execution_count": 6,
     "metadata": {},
     "output_type": "execute_result"
    }
   ],
   "source": [
    "y_train=train_data['price'].values\n",
    "y_train"
   ]
  },
  {
   "cell_type": "code",
   "execution_count": 7,
   "id": "7fee17c8",
   "metadata": {},
   "outputs": [
    {
     "data": {
      "text/plain": [
       "array([[ 7. ],\n",
       "       [ 9. ],\n",
       "       [13. ],\n",
       "       [17.5],\n",
       "       [18. ]])"
      ]
     },
     "execution_count": 7,
     "metadata": {},
     "output_type": "execute_result"
    }
   ],
   "source": [
    "y_train=y_train.reshape(5,1)\n",
    "y_train"
   ]
  },
  {
   "cell_type": "code",
   "execution_count": 8,
   "id": "f40fb4d6",
   "metadata": {},
   "outputs": [],
   "source": [
    "from sklearn.linear_model import LinearRegression"
   ]
  },
  {
   "cell_type": "code",
   "execution_count": 9,
   "id": "55c91c81",
   "metadata": {},
   "outputs": [],
   "source": [
    "model=LinearRegression()"
   ]
  },
  {
   "cell_type": "code",
   "execution_count": 10,
   "id": "649855f3",
   "metadata": {},
   "outputs": [
    {
     "data": {
      "text/plain": [
       "LinearRegression()"
      ]
     },
     "execution_count": 10,
     "metadata": {},
     "output_type": "execute_result"
    }
   ],
   "source": [
    "model.fit(x_train,y_train)"
   ]
  },
  {
   "cell_type": "code",
   "execution_count": 11,
   "id": "6796b741",
   "metadata": {},
   "outputs": [
    {
     "data": {
      "text/html": [
       "<div>\n",
       "<style scoped>\n",
       "    .dataframe tbody tr th:only-of-type {\n",
       "        vertical-align: middle;\n",
       "    }\n",
       "\n",
       "    .dataframe tbody tr th {\n",
       "        vertical-align: top;\n",
       "    }\n",
       "\n",
       "    .dataframe thead th {\n",
       "        text-align: right;\n",
       "    }\n",
       "</style>\n",
       "<table border=\"1\" class=\"dataframe\">\n",
       "  <thead>\n",
       "    <tr style=\"text-align: right;\">\n",
       "      <th></th>\n",
       "      <th>diameter</th>\n",
       "      <th>price</th>\n",
       "    </tr>\n",
       "  </thead>\n",
       "  <tbody>\n",
       "    <tr>\n",
       "      <th>0</th>\n",
       "      <td>6</td>\n",
       "      <td>8</td>\n",
       "    </tr>\n",
       "    <tr>\n",
       "      <th>1</th>\n",
       "      <td>8</td>\n",
       "      <td>12</td>\n",
       "    </tr>\n",
       "    <tr>\n",
       "      <th>2</th>\n",
       "      <td>11</td>\n",
       "      <td>15</td>\n",
       "    </tr>\n",
       "    <tr>\n",
       "      <th>3</th>\n",
       "      <td>16</td>\n",
       "      <td>18</td>\n",
       "    </tr>\n",
       "  </tbody>\n",
       "</table>\n",
       "</div>"
      ],
      "text/plain": [
       "   diameter  price\n",
       "0         6      8\n",
       "1         8     12\n",
       "2        11     15\n",
       "3        16     18"
      ]
     },
     "execution_count": 11,
     "metadata": {},
     "output_type": "execute_result"
    }
   ],
   "source": [
    "test_data= pd.DataFrame({'diameter':[6,8,11,16],'price':[8,12,15,18]})\n",
    "test_data"
   ]
  },
  {
   "cell_type": "code",
   "execution_count": 12,
   "id": "d3eba500",
   "metadata": {},
   "outputs": [
    {
     "data": {
      "text/plain": [
       "array([[ 6],\n",
       "       [ 8],\n",
       "       [11],\n",
       "       [16]], dtype=int64)"
      ]
     },
     "execution_count": 12,
     "metadata": {},
     "output_type": "execute_result"
    }
   ],
   "source": [
    "x_test=test_data['diameter'].values.reshape(4,1)\n",
    "x_test"
   ]
  },
  {
   "cell_type": "code",
   "execution_count": 13,
   "id": "5ad7ddf3",
   "metadata": {},
   "outputs": [
    {
     "data": {
      "text/plain": [
       "array([[ 8],\n",
       "       [12],\n",
       "       [15],\n",
       "       [18]], dtype=int64)"
      ]
     },
     "execution_count": 13,
     "metadata": {},
     "output_type": "execute_result"
    }
   ],
   "source": [
    "y_test=test_data['price'].values.reshape(4,1)\n",
    "y_test"
   ]
  },
  {
   "cell_type": "markdown",
   "id": "8e71bbe0",
   "metadata": {},
   "source": [
    "# Linear Graph Supposition & Plotting With Trained Data   "
   ]
  },
  {
   "cell_type": "code",
   "execution_count": 14,
   "id": "1269adcc",
   "metadata": {},
   "outputs": [
    {
     "data": {
      "text/plain": [
       "array([ 0.        ,  0.26262626,  0.52525253,  0.78787879,  1.05050505,\n",
       "        1.31313131,  1.57575758,  1.83838384,  2.1010101 ,  2.36363636,\n",
       "        2.62626263,  2.88888889,  3.15151515,  3.41414141,  3.67676768,\n",
       "        3.93939394,  4.2020202 ,  4.46464646,  4.72727273,  4.98989899,\n",
       "        5.25252525,  5.51515152,  5.77777778,  6.04040404,  6.3030303 ,\n",
       "        6.56565657,  6.82828283,  7.09090909,  7.35353535,  7.61616162,\n",
       "        7.87878788,  8.14141414,  8.4040404 ,  8.66666667,  8.92929293,\n",
       "        9.19191919,  9.45454545,  9.71717172,  9.97979798, 10.24242424,\n",
       "       10.50505051, 10.76767677, 11.03030303, 11.29292929, 11.55555556,\n",
       "       11.81818182, 12.08080808, 12.34343434, 12.60606061, 12.86868687,\n",
       "       13.13131313, 13.39393939, 13.65656566, 13.91919192, 14.18181818,\n",
       "       14.44444444, 14.70707071, 14.96969697, 15.23232323, 15.49494949,\n",
       "       15.75757576, 16.02020202, 16.28282828, 16.54545455, 16.80808081,\n",
       "       17.07070707, 17.33333333, 17.5959596 , 17.85858586, 18.12121212,\n",
       "       18.38383838, 18.64646465, 18.90909091, 19.17171717, 19.43434343,\n",
       "       19.6969697 , 19.95959596, 20.22222222, 20.48484848, 20.74747475,\n",
       "       21.01010101, 21.27272727, 21.53535354, 21.7979798 , 22.06060606,\n",
       "       22.32323232, 22.58585859, 22.84848485, 23.11111111, 23.37373737,\n",
       "       23.63636364, 23.8989899 , 24.16161616, 24.42424242, 24.68686869,\n",
       "       24.94949495, 25.21212121, 25.47474747, 25.73737374, 26.        ])"
      ]
     },
     "execution_count": 14,
     "metadata": {},
     "output_type": "execute_result"
    }
   ],
   "source": [
    "x_suppose=np.linspace(0,26,100) #in one dimension\n",
    "x_suppose"
   ]
  },
  {
   "cell_type": "code",
   "execution_count": 15,
   "id": "91535572",
   "metadata": {},
   "outputs": [],
   "source": [
    "x_suppose=x_suppose.reshape(100,1)  #changing into multi dimension"
   ]
  },
  {
   "cell_type": "code",
   "execution_count": 16,
   "id": "6e9b7087",
   "metadata": {},
   "outputs": [],
   "source": [
    "y_suppose=model.predict(x_suppose)  #Predict the supposition variable with trained model"
   ]
  },
  {
   "cell_type": "code",
   "execution_count": 17,
   "id": "9fcd2e3a",
   "metadata": {},
   "outputs": [],
   "source": [
    "import matplotlib.pyplot as plt "
   ]
  },
  {
   "cell_type": "code",
   "execution_count": 18,
   "id": "e9b9928c",
   "metadata": {},
   "outputs": [
    {
     "data": {
      "text/plain": [
       "[<matplotlib.lines.Line2D at 0x23f013ed3a0>]"
      ]
     },
     "execution_count": 18,
     "metadata": {},
     "output_type": "execute_result"
    },
    {
     "data": {
      "image/png": "[encoded data removed]",
      "text/plain": [
       "<Figure size 432x288 with 1 Axes>"
      ]
     },
     "metadata": {
      "needs_background": "light"
     },
     "output_type": "display_data"
    }
   ],
   "source": [
    "plt.plot(x_suppose,y_suppose)"
   ]
  },
  {
   "cell_type": "markdown",
   "id": "7b126e88",
   "metadata": {},
   "source": [
    "# Combining Supposed Linear Data With Polynomial  or Quadratic Test Data"
   ]
  },
  {
   "cell_type": "code",
   "execution_count": 19,
   "id": "3b6e850c",
   "metadata": {},
   "outputs": [],
   "source": [
    "from sklearn.preprocessing import PolynomialFeatures"
   ]
  },
  {
   "cell_type": "code",
   "execution_count": 20,
   "id": "e2ca1ca5",
   "metadata": {},
   "outputs": [],
   "source": [
    "Quadratic_Feature=PolynomialFeatures(degree=2) #Degree shows the type of non-linear equation (e.g: x-square,x-cube......)"
   ]
  },
  {
   "cell_type": "code",
   "execution_count": 21,
   "id": "2f5d94a9",
   "metadata": {},
   "outputs": [],
   "source": [
    "x_train_quadratic=Quadratic_Feature.fit_transform(x_train)\n"
   ]
  },
  {
   "cell_type": "code",
   "execution_count": 22,
   "id": "07289421",
   "metadata": {},
   "outputs": [],
   "source": [
    "x_test_quadratic=Quadratic_Feature.fit_transform(x_test)"
   ]
  },
  {
   "cell_type": "code",
   "execution_count": 23,
   "id": "55a41369",
   "metadata": {},
   "outputs": [],
   "source": [
    "Quadratic_model=LinearRegression()"
   ]
  },
  {
   "cell_type": "code",
   "execution_count": 24,
   "id": "eaf2f403",
   "metadata": {},
   "outputs": [
    {
     "data": {
      "text/plain": [
       "LinearRegression()"
      ]
     },
     "execution_count": 24,
     "metadata": {},
     "output_type": "execute_result"
    }
   ],
   "source": [
    "Quadratic_model.fit(x_train_quadratic,y_train)"
   ]
  },
  {
   "cell_type": "code",
   "execution_count": 25,
   "id": "738ca6df",
   "metadata": {},
   "outputs": [],
   "source": [
    "Suppose_quadratic=Quadratic_Feature.transform(x_suppose)"
   ]
  },
  {
   "cell_type": "code",
   "execution_count": 26,
   "id": "90d4a8d8",
   "metadata": {},
   "outputs": [
    {
     "data": {
      "text/plain": [
       "[<matplotlib.lines.Line2D at 0x23f014de610>]"
      ]
     },
     "execution_count": 26,
     "metadata": {},
     "output_type": "execute_result"
    },
    {
     "data": {
      "image/png": "[encoded data removed]",
      "text/plain": [
       "<Figure size 432x288 with 1 Axes>"
      ]
     },
     "metadata": {
      "needs_background": "light"
     },
     "output_type": "display_data"
    }
   ],
   "source": [
    "plt.plot(x_suppose, Quadratic_model.predict(Suppose_quadratic), c='r',linestyle='--')"
   ]
  },
  {
   "cell_type": "markdown",
   "id": "340ff085",
   "metadata": {},
   "source": [
    "# Combining Quadratic and Linear Data Together"
   ]
  },
  {
   "cell_type": "code",
   "execution_count": 27,
   "id": "3ab3ceec",
   "metadata": {},
   "outputs": [
    {
     "data": {
      "image/png": "[encoded data removed]",
      "text/plain": [
       "<Figure size 432x288 with 1 Axes>"
      ]
     },
     "metadata": {
      "needs_background": "light"
     },
     "output_type": "display_data"
    }
   ],
   "source": [
    "plt.plot(x_suppose, Quadratic_model.predict(Suppose_quadratic), c='r',linestyle='--')\n",
    "plt.title('Pizza price regressed on diameter')\n",
    "plt.xlabel('Diameter in inches')\n",
    "plt.ylabel('Price in dollars')\n",
    "plt.axis([0, 25, 0, 25])\n",
    "plt.grid(True)\n",
    "plt.scatter(x_train, y_train)\n",
    "plt.show()"
   ]
  },
  {
   "cell_type": "code",
   "execution_count": 28,
   "id": "1490219d",
   "metadata": {},
   "outputs": [
    {
     "name": "stdout",
     "output_type": "stream",
     "text": [
      "[[ 6]\n",
      " [ 8]\n",
      " [10]\n",
      " [14]\n",
      " [18]]\n"
     ]
    }
   ],
   "source": [
    "print(x_train)"
   ]
  },
  {
   "cell_type": "code",
   "execution_count": 29,
   "id": "1ef7e892",
   "metadata": {},
   "outputs": [
    {
     "name": "stdout",
     "output_type": "stream",
     "text": [
      "[[  1.   6.  36.]\n",
      " [  1.   8.  64.]\n",
      " [  1.  10. 100.]\n",
      " [  1.  14. 196.]\n",
      " [  1.  18. 324.]]\n"
     ]
    }
   ],
   "source": [
    "print(x_train_quadratic)\n"
   ]
  },
  {
   "cell_type": "markdown",
   "id": "721f4958",
   "metadata": {},
   "source": [
    "# Linear R-Score"
   ]
  },
  {
   "cell_type": "code",
   "execution_count": 30,
   "id": "8112f5ec",
   "metadata": {},
   "outputs": [
    {
     "name": "stdout",
     "output_type": "stream",
     "text": [
      "Simple linear regression r-squared 0.809726797707665\n"
     ]
    }
   ],
   "source": [
    "print('Simple linear regression r-squared', model.score(x_test, y_test))\n"
   ]
  },
  {
   "cell_type": "markdown",
   "id": "1d9ff7f4",
   "metadata": {},
   "source": [
    "# Polynomial R-Score"
   ]
  },
  {
   "cell_type": "code",
   "execution_count": 31,
   "id": "975ff06f",
   "metadata": {},
   "outputs": [
    {
     "name": "stdout",
     "output_type": "stream",
     "text": [
      "Quadratic regression r-squared 0.8675443656345073\n"
     ]
    }
   ],
   "source": [
    "print('Quadratic regression r-squared', Quadratic_model.score(x_test_quadratic, y_test))"
   ]
  },
  {
   "cell_type": "code",
   "execution_count": null,
   "id": "9eff8049",
   "metadata": {},
   "outputs": [],
   "source": []
  }
 ],
 "metadata": {
  "kernelspec": {
   "display_name": "Python 3 (ipykernel)",
   "language": "python",
   "name": "python3"
  },
  "language_info": {
   "codemirror_mode": {
    "name": "ipython",
    "version": 3
   },
   "file_extension": ".py",
   "mimetype": "text/x-python",
   "name": "python",
   "nbconvert_exporter": "python",
   "pygments_lexer": "ipython3",
   "version": "3.9.13"
  }
 },
 "nbformat": 4,
 "nbformat_minor": 5
}
