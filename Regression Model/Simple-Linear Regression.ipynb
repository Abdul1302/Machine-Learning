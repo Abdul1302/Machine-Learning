{
 "cells": [
  {
   "cell_type": "markdown",
   "id": "8b716afc",
   "metadata": {},
   "source": [
    "# 1.Simple Linear Regression"
   ]
  },
  {
   "cell_type": "markdown",
   "id": "6f746d11",
   "metadata": {},
   "source": [
    "Simple linear regression is a statistical method that allows us to summarize and study relationships between two continuous (quantitative) variables:\n",
    "\n",
    "1. One variable, denoted x, is regarded as the predictor, explanatory, or independent variable.\n",
    "2. The other variable, denoted y, is regarded as the response, outcome, or dependent variable."
   ]
  },
  {
   "cell_type": "code",
   "execution_count": 1,
   "id": "5a881dde",
   "metadata": {},
   "outputs": [],
   "source": [
    "import pandas as pd\n",
    "import numpy as np"
   ]
  },
  {
   "cell_type": "markdown",
   "id": "6b1932d6",
   "metadata": {},
   "source": [
    "# Two Parts Of Data \n",
    "1. Train Data\n",
    "2. Test Data"
   ]
  },
  {
   "cell_type": "markdown",
   "id": "2542c376",
   "metadata": {},
   "source": [
    "# 1. Train Data"
   ]
  },
  {
   "cell_type": "code",
   "execution_count": 2,
   "id": "836a6f94",
   "metadata": {},
   "outputs": [
    {
     "data": {
      "text/html": [
       "<div>\n",
       "<style scoped>\n",
       "    .dataframe tbody tr th:only-of-type {\n",
       "        vertical-align: middle;\n",
       "    }\n",
       "\n",
       "    .dataframe tbody tr th {\n",
       "        vertical-align: top;\n",
       "    }\n",
       "\n",
       "    .dataframe thead th {\n",
       "        text-align: right;\n",
       "    }\n",
       "</style>\n",
       "<table border=\"1\" class=\"dataframe\">\n",
       "  <thead>\n",
       "    <tr style=\"text-align: right;\">\n",
       "      <th></th>\n",
       "      <th>Diameter</th>\n",
       "      <th>Price</th>\n",
       "    </tr>\n",
       "  </thead>\n",
       "  <tbody>\n",
       "    <tr>\n",
       "      <th>0</th>\n",
       "      <td>6</td>\n",
       "      <td>7.0</td>\n",
       "    </tr>\n",
       "    <tr>\n",
       "      <th>1</th>\n",
       "      <td>8</td>\n",
       "      <td>9.0</td>\n",
       "    </tr>\n",
       "    <tr>\n",
       "      <th>2</th>\n",
       "      <td>10</td>\n",
       "      <td>13.0</td>\n",
       "    </tr>\n",
       "    <tr>\n",
       "      <th>3</th>\n",
       "      <td>14</td>\n",
       "      <td>17.5</td>\n",
       "    </tr>\n",
       "    <tr>\n",
       "      <th>4</th>\n",
       "      <td>18</td>\n",
       "      <td>18.0</td>\n",
       "    </tr>\n",
       "  </tbody>\n",
       "</table>\n",
       "</div>"
      ],
      "text/plain": [
       "   Diameter  Price\n",
       "0         6    7.0\n",
       "1         8    9.0\n",
       "2        10   13.0\n",
       "3        14   17.5\n",
       "4        18   18.0"
      ]
     },
     "execution_count": 2,
     "metadata": {},
     "output_type": "execute_result"
    }
   ],
   "source": [
    "train_data=pd.DataFrame({'Diameter':[6,8,10,14,18],'Price':[7,9,13,17.5,18]})\n",
    "train_data"
   ]
  },
  {
   "cell_type": "markdown",
   "id": "c1b710c3",
   "metadata": {},
   "source": [
    "1. x=Diameter (Independent value because diameter is not depend on price)\n",
    "2. y=price (Dependent value because price of pizza depend on size of pizza means on diameter)"
   ]
  },
  {
   "cell_type": "code",
   "execution_count": 6,
   "id": "1a51e62b",
   "metadata": {},
   "outputs": [],
   "source": [
    "x=train_data.Diameter.values  #Data is one diamensional\n"
   ]
  },
  {
   "cell_type": "code",
   "execution_count": 4,
   "id": "00fa7471",
   "metadata": {},
   "outputs": [
    {
     "data": {
      "text/plain": [
       "array([ 7. ,  9. , 13. , 17.5, 18. ])"
      ]
     },
     "execution_count": 4,
     "metadata": {},
     "output_type": "execute_result"
    }
   ],
   "source": [
    "y=train_data.Price.values   #Data is one diamensional\n",
    "y"
   ]
  },
  {
   "cell_type": "markdown",
   "id": "8478219a",
   "metadata": {},
   "source": [
    "Now The whole data is in one diamensional array, we have to reshape the whole data in multple diamension which is help us for plotting the data on graph"
   ]
  },
  {
   "cell_type": "code",
   "execution_count": 76,
   "id": "7d6326c0",
   "metadata": {},
   "outputs": [
    {
     "data": {
      "text/plain": [
       "array([[ 6],\n",
       "       [ 8],\n",
       "       [10],\n",
       "       [14],\n",
       "       [18]], dtype=int64)"
      ]
     },
     "execution_count": 76,
     "metadata": {},
     "output_type": "execute_result"
    }
   ],
   "source": [
    "x=x.reshape(5,1)\n",
    "x"
   ]
  },
  {
   "cell_type": "code",
   "execution_count": 77,
   "id": "a909ea4a",
   "metadata": {},
   "outputs": [
    {
     "data": {
      "text/plain": [
       "array([[ 7. ],\n",
       "       [ 9. ],\n",
       "       [13. ],\n",
       "       [17.5],\n",
       "       [18. ]])"
      ]
     },
     "execution_count": 77,
     "metadata": {},
     "output_type": "execute_result"
    }
   ],
   "source": [
    "y=y.reshape(5,1)\n",
    "y"
   ]
  },
  {
   "cell_type": "markdown",
   "id": "2905a358",
   "metadata": {},
   "source": [
    "Plotting of x(independent value) and y(dependent value) for trained data"
   ]
  },
  {
   "cell_type": "code",
   "execution_count": 78,
   "id": "7f325e37",
   "metadata": {},
   "outputs": [],
   "source": [
    "import matplotlib.pyplot as plt"
   ]
  },
  {
   "cell_type": "markdown",
   "id": "2697aa96",
   "metadata": {},
   "source": [
    "The Following Graph shows the Diameter Plotted against the price of trained Data "
   ]
  },
  {
   "cell_type": "code",
   "execution_count": 79,
   "id": "a8047cb1",
   "metadata": {},
   "outputs": [
    {
     "data": {
      "image/png": "[encoded data removed]",
      "text/plain": [
       "<Figure size 432x288 with 1 Axes>"
      ]
     },
     "metadata": {
      "needs_background": "light"
     },
     "output_type": "display_data"
    }
   ],
   "source": [
    "plt.figure()\n",
    "plt.title('Pizza Price Plotted against Diameter')\n",
    "plt.xlabel('Diameter of Pizza')\n",
    "plt.ylabel('Price of Pizza')\n",
    "plt.plot(x,y)\n",
    "plt.plot(x,y,'k.')\n",
    "plt.axis([0,25,0,25])\n",
    "plt.grid(True)\n",
    "plt.show()"
   ]
  },
  {
   "cell_type": "markdown",
   "id": "6aa3c564",
   "metadata": {},
   "source": [
    "# Fitting of Trained Data in LinearRegression"
   ]
  },
  {
   "cell_type": "code",
   "execution_count": 80,
   "id": "1cc03d65",
   "metadata": {},
   "outputs": [],
   "source": [
    "from sklearn.linear_model import LinearRegression"
   ]
  },
  {
   "cell_type": "code",
   "execution_count": 81,
   "id": "6bc1ec22",
   "metadata": {},
   "outputs": [],
   "source": [
    "model=LinearRegression()"
   ]
  },
  {
   "cell_type": "code",
   "execution_count": 82,
   "id": "0ea38401",
   "metadata": {},
   "outputs": [
    {
     "data": {
      "text/plain": [
       "LinearRegression()"
      ]
     },
     "execution_count": 82,
     "metadata": {},
     "output_type": "execute_result"
    }
   ],
   "source": [
    "model.fit(x,y)"
   ]
  },
  {
   "cell_type": "markdown",
   "id": "2f7a8ad4",
   "metadata": {},
   "source": [
    "# 2. Test Data"
   ]
  },
  {
   "cell_type": "code",
   "execution_count": 83,
   "id": "175cc21f",
   "metadata": {},
   "outputs": [
    {
     "data": {
      "text/html": [
       "<div>\n",
       "<style scoped>\n",
       "    .dataframe tbody tr th:only-of-type {\n",
       "        vertical-align: middle;\n",
       "    }\n",
       "\n",
       "    .dataframe tbody tr th {\n",
       "        vertical-align: top;\n",
       "    }\n",
       "\n",
       "    .dataframe thead th {\n",
       "        text-align: right;\n",
       "    }\n",
       "</style>\n",
       "<table border=\"1\" class=\"dataframe\">\n",
       "  <thead>\n",
       "    <tr style=\"text-align: right;\">\n",
       "      <th></th>\n",
       "      <th>diameter</th>\n",
       "      <th>Price</th>\n",
       "    </tr>\n",
       "  </thead>\n",
       "  <tbody>\n",
       "    <tr>\n",
       "      <th>0</th>\n",
       "      <td>8</td>\n",
       "      <td>11.0</td>\n",
       "    </tr>\n",
       "    <tr>\n",
       "      <th>1</th>\n",
       "      <td>9</td>\n",
       "      <td>8.5</td>\n",
       "    </tr>\n",
       "    <tr>\n",
       "      <th>2</th>\n",
       "      <td>11</td>\n",
       "      <td>15.0</td>\n",
       "    </tr>\n",
       "    <tr>\n",
       "      <th>3</th>\n",
       "      <td>16</td>\n",
       "      <td>18.0</td>\n",
       "    </tr>\n",
       "    <tr>\n",
       "      <th>4</th>\n",
       "      <td>12</td>\n",
       "      <td>11.0</td>\n",
       "    </tr>\n",
       "  </tbody>\n",
       "</table>\n",
       "</div>"
      ],
      "text/plain": [
       "   diameter  Price\n",
       "0         8   11.0\n",
       "1         9    8.5\n",
       "2        11   15.0\n",
       "3        16   18.0\n",
       "4        12   11.0"
      ]
     },
     "execution_count": 83,
     "metadata": {},
     "output_type": "execute_result"
    }
   ],
   "source": [
    "test_data = pd.DataFrame({'diameter':[8,9,11,16,12],'Price':[11,8.5,15,18,11]})\n",
    "test_data"
   ]
  },
  {
   "cell_type": "markdown",
   "id": "867ffdd5",
   "metadata": {},
   "source": [
    "Now,We have to find the residual sum of squares"
   ]
  },
  {
   "cell_type": "code",
   "execution_count": 84,
   "id": "5fdd845e",
   "metadata": {},
   "outputs": [
    {
     "data": {
      "text/plain": [
       "array([[ 8],\n",
       "       [ 9],\n",
       "       [11],\n",
       "       [16],\n",
       "       [12]], dtype=int64)"
      ]
     },
     "execution_count": 84,
     "metadata": {},
     "output_type": "execute_result"
    }
   ],
   "source": [
    "x_test=test_data.diameter.values.reshape(5,1)\n",
    "x_test"
   ]
  },
  {
   "cell_type": "code",
   "execution_count": 85,
   "id": "eb057758",
   "metadata": {},
   "outputs": [
    {
     "data": {
      "text/plain": [
       "array([[11. ],\n",
       "       [ 8.5],\n",
       "       [15. ],\n",
       "       [18. ],\n",
       "       [11. ]])"
      ]
     },
     "execution_count": 85,
     "metadata": {},
     "output_type": "execute_result"
    }
   ],
   "source": [
    "y_test=test_data.Price.values.reshape(5,1)\n",
    "y_test"
   ]
  },
  {
   "cell_type": "markdown",
   "id": "3a131fa0",
   "metadata": {},
   "source": [
    "# Predicted Price Of Model"
   ]
  },
  {
   "cell_type": "markdown",
   "id": "55ee16fe",
   "metadata": {},
   "source": [
    "Price can only be predictable by the independent value means(x=diameter) of test data"
   ]
  },
  {
   "cell_type": "code",
   "execution_count": 86,
   "id": "e25ed1e8",
   "metadata": {},
   "outputs": [
    {
     "data": {
      "text/plain": [
       "array([[ 9.77586207],\n",
       "       [10.75215517],\n",
       "       [12.70474138],\n",
       "       [17.5862069 ],\n",
       "       [13.68103448]])"
      ]
     },
     "execution_count": 86,
     "metadata": {},
     "output_type": "execute_result"
    }
   ],
   "source": [
    "prediction=model.predict(x_test)\n",
    "prediction"
   ]
  },
  {
   "cell_type": "markdown",
   "id": "c337b5d8",
   "metadata": {},
   "source": [
    "The Following Graph shows the Diameter Plotted against the price of tested Data "
   ]
  },
  {
   "cell_type": "code",
   "execution_count": 87,
   "id": "f8865f59",
   "metadata": {},
   "outputs": [
    {
     "data": {
      "image/png": "[encoded data removed]",
      "text/plain": [
       "<Figure size 432x288 with 1 Axes>"
      ]
     },
     "metadata": {
      "needs_background": "light"
     },
     "output_type": "display_data"
    }
   ],
   "source": [
    "plt.figure()\n",
    "plt.title('Pizza Price Plotted against Diameter')\n",
    "plt.xlabel('Diameter of Pizza')\n",
    "plt.ylabel('Price of Pizza')\n",
    "plt.plot(x_test,prediction)\n",
    "plt.plot(x_test,prediction,'k.')\n",
    "plt.axis([0,25,0,25])\n",
    "plt.grid()\n",
    "plt.show()\n"
   ]
  },
  {
   "cell_type": "code",
   "execution_count": 88,
   "id": "6cc148ea",
   "metadata": {},
   "outputs": [
    {
     "name": "stdout",
     "output_type": "stream",
     "text": [
      "actual Price: [11.]   and    Predicted Price: [9.77586207]\n",
      "actual Price: [8.5]   and    Predicted Price: [10.75215517]\n",
      "actual Price: [15.]   and    Predicted Price: [12.70474138]\n",
      "actual Price: [18.]   and    Predicted Price: [17.5862069]\n",
      "actual Price: [11.]   and    Predicted Price: [13.68103448]\n"
     ]
    }
   ],
   "source": [
    "for i, predictions in enumerate(prediction):\n",
    "    print('actual Price: %s   and    Predicted Price: %s' %(y_test[i],predictions))"
   ]
  },
  {
   "cell_type": "markdown",
   "id": "40943655",
   "metadata": {},
   "source": [
    "# Residual Sum Of Squares Formula"
   ]
  },
  {
   "cell_type": "markdown",
   "id": "247ca3e6",
   "metadata": {},
   "source": [
    "It shows the difference between the points that are on line(predictedline points) and the points away from line(y)\n",
    "1. Residual_sum_of_squares = ∑(predicted_price(x)-dependent_value(y))^2\n",
    "2. Residual_sum_of_squares=SS(res) = ∑(y - f(x))^2"
   ]
  },
  {
   "cell_type": "code",
   "execution_count": 89,
   "id": "c78acffd",
   "metadata": {},
   "outputs": [],
   "source": [
    "residual_sum=np.sqrt(np.mean((model.predict(x)-y)**2))\n"
   ]
  },
  {
   "cell_type": "code",
   "execution_count": 90,
   "id": "7fcc9fa8",
   "metadata": {},
   "outputs": [
    {
     "name": "stdout",
     "output_type": "stream",
     "text": [
      "Residual sum Of square: 1.3227127297781784\n"
     ]
    }
   ],
   "source": [
    "print(f'Residual sum Of square: {residual_sum}')"
   ]
  },
  {
   "cell_type": "code",
   "execution_count": 91,
   "id": "4ac2b8e2",
   "metadata": {},
   "outputs": [
    {
     "name": "stdout",
     "output_type": "stream",
     "text": [
      "A 12 inches Pizza should cost have: $13.68\n"
     ]
    }
   ],
   "source": [
    "print(\"A 12 inches Pizza should cost have: $%.2f\" % model.predict([[12]]))"
   ]
  },
  {
   "cell_type": "code",
   "execution_count": 92,
   "id": "aa9f90c1",
   "metadata": {},
   "outputs": [
    {
     "name": "stdout",
     "output_type": "stream",
     "text": [
      "A 11 inches Pizza should cost have: $12.70\n"
     ]
    }
   ],
   "source": [
    "print(\"A 11 inches Pizza should cost have: $%.2f\" % model.predict([[11]]))"
   ]
  },
  {
   "cell_type": "markdown",
   "id": "8a684ae3",
   "metadata": {},
   "source": [
    "# R-Squared Value"
   ]
  },
  {
   "cell_type": "markdown",
   "id": "89831517",
   "metadata": {},
   "source": [
    "R-Score Is Find Only By Test Data"
   ]
  },
  {
   "cell_type": "code",
   "execution_count": 93,
   "id": "541a0bcf",
   "metadata": {},
   "outputs": [
    {
     "data": {
      "text/plain": [
       "0.6620052929422553"
      ]
     },
     "execution_count": 93,
     "metadata": {},
     "output_type": "execute_result"
    }
   ],
   "source": [
    "model.score(x_test,y_test)"
   ]
  }
 ],
 "metadata": {
  "kernelspec": {
   "display_name": "Python 3 (ipykernel)",
   "language": "python",
   "name": "python3"
  },
  "language_info": {
   "codemirror_mode": {
    "name": "ipython",
    "version": 3
   },
   "file_extension": ".py",
   "mimetype": "text/x-python",
   "name": "python",
   "nbconvert_exporter": "python",
   "pygments_lexer": "ipython3",
   "version": "3.9.13"
  }
 },
 "nbformat": 4,
 "nbformat_minor": 5
}
