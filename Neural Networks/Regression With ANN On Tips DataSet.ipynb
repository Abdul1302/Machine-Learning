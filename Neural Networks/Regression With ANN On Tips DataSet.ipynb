{
 "cells": [
  {
   "cell_type": "code",
   "execution_count": 230,
   "id": "a57dcea7",
   "metadata": {},
   "outputs": [],
   "source": [
    "import pandas as pd\n",
    "import numpy as np\n",
    "import tensorflow as tf\n",
    "import seaborn as sns\n",
    "from sklearn.model_selection import train_test_split\n",
    "from sklearn.preprocessing import LabelEncoder,StandardScaler\n",
    "import matplotlib.pyplot as plt\n",
    "from tensorflow.keras.callbacks import EarlyStopping\n"
   ]
  },
  {
   "cell_type": "code",
   "execution_count": 231,
   "id": "6b47b2b5",
   "metadata": {},
   "outputs": [],
   "source": [
    "df=sns.load_dataset('tips')"
   ]
  },
  {
   "cell_type": "code",
   "execution_count": 232,
   "id": "3200511d",
   "metadata": {},
   "outputs": [
    {
     "data": {
      "text/html": [
       "<div>\n",
       "<style scoped>\n",
       "    .dataframe tbody tr th:only-of-type {\n",
       "        vertical-align: middle;\n",
       "    }\n",
       "\n",
       "    .dataframe tbody tr th {\n",
       "        vertical-align: top;\n",
       "    }\n",
       "\n",
       "    .dataframe thead th {\n",
       "        text-align: right;\n",
       "    }\n",
       "</style>\n",
       "<table border=\"1\" class=\"dataframe\">\n",
       "  <thead>\n",
       "    <tr style=\"text-align: right;\">\n",
       "      <th></th>\n",
       "      <th>total_bill</th>\n",
       "      <th>tip</th>\n",
       "      <th>sex</th>\n",
       "      <th>smoker</th>\n",
       "      <th>day</th>\n",
       "      <th>time</th>\n",
       "      <th>size</th>\n",
       "    </tr>\n",
       "  </thead>\n",
       "  <tbody>\n",
       "    <tr>\n",
       "      <th>0</th>\n",
       "      <td>16.99</td>\n",
       "      <td>1.01</td>\n",
       "      <td>Female</td>\n",
       "      <td>No</td>\n",
       "      <td>Sun</td>\n",
       "      <td>Dinner</td>\n",
       "      <td>2</td>\n",
       "    </tr>\n",
       "    <tr>\n",
       "      <th>1</th>\n",
       "      <td>10.34</td>\n",
       "      <td>1.66</td>\n",
       "      <td>Male</td>\n",
       "      <td>No</td>\n",
       "      <td>Sun</td>\n",
       "      <td>Dinner</td>\n",
       "      <td>3</td>\n",
       "    </tr>\n",
       "    <tr>\n",
       "      <th>2</th>\n",
       "      <td>21.01</td>\n",
       "      <td>3.50</td>\n",
       "      <td>Male</td>\n",
       "      <td>No</td>\n",
       "      <td>Sun</td>\n",
       "      <td>Dinner</td>\n",
       "      <td>3</td>\n",
       "    </tr>\n",
       "    <tr>\n",
       "      <th>3</th>\n",
       "      <td>23.68</td>\n",
       "      <td>3.31</td>\n",
       "      <td>Male</td>\n",
       "      <td>No</td>\n",
       "      <td>Sun</td>\n",
       "      <td>Dinner</td>\n",
       "      <td>2</td>\n",
       "    </tr>\n",
       "    <tr>\n",
       "      <th>4</th>\n",
       "      <td>24.59</td>\n",
       "      <td>3.61</td>\n",
       "      <td>Female</td>\n",
       "      <td>No</td>\n",
       "      <td>Sun</td>\n",
       "      <td>Dinner</td>\n",
       "      <td>4</td>\n",
       "    </tr>\n",
       "  </tbody>\n",
       "</table>\n",
       "</div>"
      ],
      "text/plain": [
       "   total_bill   tip     sex smoker  day    time  size\n",
       "0       16.99  1.01  Female     No  Sun  Dinner     2\n",
       "1       10.34  1.66    Male     No  Sun  Dinner     3\n",
       "2       21.01  3.50    Male     No  Sun  Dinner     3\n",
       "3       23.68  3.31    Male     No  Sun  Dinner     2\n",
       "4       24.59  3.61  Female     No  Sun  Dinner     4"
      ]
     },
     "execution_count": 232,
     "metadata": {},
     "output_type": "execute_result"
    }
   ],
   "source": [
    "df.head()"
   ]
  },
  {
   "cell_type": "code",
   "execution_count": 233,
   "id": "bdaf1449",
   "metadata": {},
   "outputs": [
    {
     "data": {
      "text/plain": [
       "(244, 7)"
      ]
     },
     "execution_count": 233,
     "metadata": {},
     "output_type": "execute_result"
    }
   ],
   "source": [
    "df.shape"
   ]
  },
  {
   "cell_type": "code",
   "execution_count": 234,
   "id": "1889eb2c",
   "metadata": {},
   "outputs": [
    {
     "name": "stdout",
     "output_type": "stream",
     "text": [
      "<class 'pandas.core.frame.DataFrame'>\n",
      "RangeIndex: 244 entries, 0 to 243\n",
      "Data columns (total 7 columns):\n",
      " #   Column      Non-Null Count  Dtype   \n",
      "---  ------      --------------  -----   \n",
      " 0   total_bill  244 non-null    float64 \n",
      " 1   tip         244 non-null    float64 \n",
      " 2   sex         244 non-null    category\n",
      " 3   smoker      244 non-null    category\n",
      " 4   day         244 non-null    category\n",
      " 5   time        244 non-null    category\n",
      " 6   size        244 non-null    int64   \n",
      "dtypes: category(4), float64(2), int64(1)\n",
      "memory usage: 7.4 KB\n"
     ]
    }
   ],
   "source": [
    "df.info()"
   ]
  },
  {
   "cell_type": "code",
   "execution_count": 235,
   "id": "efb5d60f",
   "metadata": {},
   "outputs": [
    {
     "data": {
      "text/plain": [
       "total_bill    0\n",
       "tip           0\n",
       "sex           0\n",
       "smoker        0\n",
       "day           0\n",
       "time          0\n",
       "size          0\n",
       "dtype: int64"
      ]
     },
     "execution_count": 235,
     "metadata": {},
     "output_type": "execute_result"
    }
   ],
   "source": [
    "df.isnull().sum()"
   ]
  },
  {
   "cell_type": "code",
   "execution_count": 236,
   "id": "cedd7566",
   "metadata": {},
   "outputs": [
    {
     "data": {
      "text/plain": [
       "1"
      ]
     },
     "execution_count": 236,
     "metadata": {},
     "output_type": "execute_result"
    }
   ],
   "source": [
    "df.duplicated().sum()"
   ]
  },
  {
   "cell_type": "code",
   "execution_count": 237,
   "id": "6d52e297",
   "metadata": {},
   "outputs": [],
   "source": [
    "df.drop_duplicates(inplace=True)"
   ]
  },
  {
   "cell_type": "code",
   "execution_count": 238,
   "id": "66a7aa17",
   "metadata": {},
   "outputs": [
    {
     "data": {
      "text/plain": [
       "(243, 7)"
      ]
     },
     "execution_count": 238,
     "metadata": {},
     "output_type": "execute_result"
    }
   ],
   "source": [
    "df.shape"
   ]
  },
  {
   "cell_type": "code",
   "execution_count": 239,
   "id": "4b9e5690",
   "metadata": {},
   "outputs": [
    {
     "data": {
      "text/plain": [
       "array([16.99, 10.34, 21.01, 23.68, 24.59, 25.29,  8.77, 26.88, 15.04,\n",
       "       14.78, 10.27, 35.26, 15.42, 18.43, 14.83, 21.58, 10.33, 16.29,\n",
       "       16.97, 20.65, 17.92, 20.29, 15.77, 39.42, 19.82, 17.81, 13.37,\n",
       "       12.69, 21.7 , 19.65,  9.55, 18.35, 15.06, 20.69, 17.78, 24.06,\n",
       "       16.31, 16.93, 18.69, 31.27, 16.04, 17.46, 13.94,  9.68, 30.4 ,\n",
       "       18.29, 22.23, 32.4 , 28.55, 18.04, 12.54, 10.29, 34.81,  9.94,\n",
       "       25.56, 19.49, 38.01, 26.41, 11.24, 48.27, 13.81, 11.02, 17.59,\n",
       "       20.08, 16.45,  3.07, 20.23, 15.01, 12.02, 17.07, 26.86, 25.28,\n",
       "       14.73, 10.51, 27.2 , 22.76, 17.29, 19.44, 16.66, 10.07, 32.68,\n",
       "       15.98, 34.83, 13.03, 18.28, 24.71, 21.16, 28.97, 22.49,  5.75,\n",
       "       16.32, 22.75, 40.17, 27.28, 12.03, 12.46, 11.35, 15.38, 44.3 ,\n",
       "       22.42, 20.92, 15.36, 20.49, 25.21, 18.24, 14.31, 14.  ,  7.25,\n",
       "       38.07, 23.95, 25.71, 17.31, 29.93, 10.65, 12.43, 24.08, 11.69,\n",
       "       13.42, 14.26, 15.95, 12.48, 29.8 ,  8.52, 14.52, 11.38, 22.82,\n",
       "       19.08, 20.27, 11.17, 12.26, 18.26,  8.51, 14.15, 16.  , 13.16,\n",
       "       17.47, 34.3 , 41.19, 27.05, 16.43,  8.35, 18.64, 11.87,  9.78,\n",
       "        7.51, 14.07, 13.13, 17.26, 24.55, 19.77, 29.85, 48.17, 25.  ,\n",
       "       13.39, 16.49, 21.5 , 12.66, 16.21, 17.51, 24.52, 20.76, 31.71,\n",
       "       10.59, 10.63, 50.81, 15.81, 31.85, 16.82, 32.9 , 17.89, 14.48,\n",
       "        9.6 , 34.63, 34.65, 23.33, 45.35, 23.17, 40.55, 20.9 , 30.46,\n",
       "       18.15, 23.1 , 15.69, 19.81, 28.44, 15.48, 16.58,  7.56, 43.11,\n",
       "       13.  , 13.51, 18.71, 12.74, 16.4 , 20.53, 16.47, 26.59, 38.73,\n",
       "       24.27, 12.76, 30.06, 25.89, 48.33, 13.27, 28.17, 12.9 , 28.15,\n",
       "       11.59,  7.74, 30.14, 12.16,  8.58, 16.27, 10.09, 20.45, 13.28,\n",
       "       22.12, 24.01, 11.61, 10.77, 15.53, 12.6 , 32.83, 35.83, 29.03,\n",
       "       27.18, 22.67, 17.82, 18.78])"
      ]
     },
     "execution_count": 239,
     "metadata": {},
     "output_type": "execute_result"
    }
   ],
   "source": [
    "df.total_bill.unique()"
   ]
  },
  {
   "cell_type": "code",
   "execution_count": 240,
   "id": "eaa61299",
   "metadata": {},
   "outputs": [
    {
     "data": {
      "text/plain": [
       "array([ 1.01,  1.66,  3.5 ,  3.31,  3.61,  4.71,  2.  ,  3.12,  1.96,\n",
       "        3.23,  1.71,  5.  ,  1.57,  3.  ,  3.02,  3.92,  1.67,  3.71,\n",
       "        3.35,  4.08,  2.75,  2.23,  7.58,  3.18,  2.34,  4.3 ,  1.45,\n",
       "        2.5 ,  2.45,  3.27,  3.6 ,  3.07,  2.31,  2.24,  2.54,  3.06,\n",
       "        1.32,  5.6 ,  6.  ,  2.05,  2.6 ,  5.2 ,  1.56,  4.34,  3.51,\n",
       "        1.5 ,  1.76,  6.73,  3.21,  1.98,  3.76,  2.64,  3.15,  2.47,\n",
       "        1.  ,  2.01,  2.09,  1.97,  3.14,  2.2 ,  1.25,  3.08,  4.  ,\n",
       "        2.71,  3.4 ,  1.83,  2.03,  5.17,  5.85,  3.25,  4.73,  3.48,\n",
       "        1.64,  4.06,  4.29,  2.55,  5.07,  1.8 ,  2.92,  1.68,  2.52,\n",
       "        4.2 ,  1.48,  2.18,  2.83,  6.7 ,  2.3 ,  1.36,  1.63,  1.73,\n",
       "        2.74,  5.14,  3.75,  2.61,  4.5 ,  1.61, 10.  ,  3.16,  5.15,\n",
       "        3.11,  3.55,  3.68,  5.65,  6.5 ,  4.19,  2.56,  2.02,  1.44,\n",
       "        3.41,  5.16,  9.  ,  1.1 ,  3.09,  1.92,  1.58,  2.72,  2.88,\n",
       "        3.39,  1.47,  1.17,  4.67,  5.92,  1.75])"
      ]
     },
     "execution_count": 240,
     "metadata": {},
     "output_type": "execute_result"
    }
   ],
   "source": [
    "df.tip.unique()"
   ]
  },
  {
   "cell_type": "code",
   "execution_count": 241,
   "id": "02b3a449",
   "metadata": {},
   "outputs": [
    {
     "data": {
      "text/plain": [
       "['Female', 'Male']\n",
       "Categories (2, object): ['Male', 'Female']"
      ]
     },
     "execution_count": 241,
     "metadata": {},
     "output_type": "execute_result"
    }
   ],
   "source": [
    "df.sex.unique()"
   ]
  },
  {
   "cell_type": "code",
   "execution_count": 242,
   "id": "4f36c322",
   "metadata": {},
   "outputs": [
    {
     "data": {
      "text/plain": [
       "['No', 'Yes']\n",
       "Categories (2, object): ['Yes', 'No']"
      ]
     },
     "execution_count": 242,
     "metadata": {},
     "output_type": "execute_result"
    }
   ],
   "source": [
    "df.smoker.unique()"
   ]
  },
  {
   "cell_type": "code",
   "execution_count": 243,
   "id": "94e4293f",
   "metadata": {},
   "outputs": [
    {
     "data": {
      "text/plain": [
       "['Sun', 'Sat', 'Thur', 'Fri']\n",
       "Categories (4, object): ['Thur', 'Fri', 'Sat', 'Sun']"
      ]
     },
     "execution_count": 243,
     "metadata": {},
     "output_type": "execute_result"
    }
   ],
   "source": [
    "df.day.unique()"
   ]
  },
  {
   "cell_type": "code",
   "execution_count": 244,
   "id": "05f41e93",
   "metadata": {},
   "outputs": [
    {
     "data": {
      "text/plain": [
       "['Dinner', 'Lunch']\n",
       "Categories (2, object): ['Lunch', 'Dinner']"
      ]
     },
     "execution_count": 244,
     "metadata": {},
     "output_type": "execute_result"
    }
   ],
   "source": [
    "df.time.unique()"
   ]
  },
  {
   "cell_type": "code",
   "execution_count": 245,
   "id": "3979ad12",
   "metadata": {},
   "outputs": [],
   "source": [
    "le=LabelEncoder()"
   ]
  },
  {
   "cell_type": "code",
   "execution_count": 246,
   "id": "0a6894fd",
   "metadata": {},
   "outputs": [],
   "source": [
    "df['sex']=le.fit_transform(df['sex'])\n",
    "df['smoker']=le.fit_transform(df['smoker'])\n",
    "df['day']=le.fit_transform(df['day'])\n",
    "df['time']=le.fit_transform(df['time'])"
   ]
  },
  {
   "cell_type": "code",
   "execution_count": 247,
   "id": "b06d579c",
   "metadata": {},
   "outputs": [
    {
     "data": {
      "text/html": [
       "<div>\n",
       "<style scoped>\n",
       "    .dataframe tbody tr th:only-of-type {\n",
       "        vertical-align: middle;\n",
       "    }\n",
       "\n",
       "    .dataframe tbody tr th {\n",
       "        vertical-align: top;\n",
       "    }\n",
       "\n",
       "    .dataframe thead th {\n",
       "        text-align: right;\n",
       "    }\n",
       "</style>\n",
       "<table border=\"1\" class=\"dataframe\">\n",
       "  <thead>\n",
       "    <tr style=\"text-align: right;\">\n",
       "      <th></th>\n",
       "      <th>total_bill</th>\n",
       "      <th>tip</th>\n",
       "      <th>sex</th>\n",
       "      <th>smoker</th>\n",
       "      <th>day</th>\n",
       "      <th>time</th>\n",
       "      <th>size</th>\n",
       "    </tr>\n",
       "  </thead>\n",
       "  <tbody>\n",
       "    <tr>\n",
       "      <th>0</th>\n",
       "      <td>16.99</td>\n",
       "      <td>1.01</td>\n",
       "      <td>0</td>\n",
       "      <td>0</td>\n",
       "      <td>2</td>\n",
       "      <td>0</td>\n",
       "      <td>2</td>\n",
       "    </tr>\n",
       "    <tr>\n",
       "      <th>1</th>\n",
       "      <td>10.34</td>\n",
       "      <td>1.66</td>\n",
       "      <td>1</td>\n",
       "      <td>0</td>\n",
       "      <td>2</td>\n",
       "      <td>0</td>\n",
       "      <td>3</td>\n",
       "    </tr>\n",
       "    <tr>\n",
       "      <th>2</th>\n",
       "      <td>21.01</td>\n",
       "      <td>3.50</td>\n",
       "      <td>1</td>\n",
       "      <td>0</td>\n",
       "      <td>2</td>\n",
       "      <td>0</td>\n",
       "      <td>3</td>\n",
       "    </tr>\n",
       "    <tr>\n",
       "      <th>3</th>\n",
       "      <td>23.68</td>\n",
       "      <td>3.31</td>\n",
       "      <td>1</td>\n",
       "      <td>0</td>\n",
       "      <td>2</td>\n",
       "      <td>0</td>\n",
       "      <td>2</td>\n",
       "    </tr>\n",
       "    <tr>\n",
       "      <th>4</th>\n",
       "      <td>24.59</td>\n",
       "      <td>3.61</td>\n",
       "      <td>0</td>\n",
       "      <td>0</td>\n",
       "      <td>2</td>\n",
       "      <td>0</td>\n",
       "      <td>4</td>\n",
       "    </tr>\n",
       "  </tbody>\n",
       "</table>\n",
       "</div>"
      ],
      "text/plain": [
       "   total_bill   tip  sex  smoker  day  time  size\n",
       "0       16.99  1.01    0       0    2     0     2\n",
       "1       10.34  1.66    1       0    2     0     3\n",
       "2       21.01  3.50    1       0    2     0     3\n",
       "3       23.68  3.31    1       0    2     0     2\n",
       "4       24.59  3.61    0       0    2     0     4"
      ]
     },
     "execution_count": 247,
     "metadata": {},
     "output_type": "execute_result"
    }
   ],
   "source": [
    "df.head()"
   ]
  },
  {
   "cell_type": "code",
   "execution_count": 248,
   "id": "4d2c0787",
   "metadata": {},
   "outputs": [],
   "source": [
    "x=df.drop('total_bill',axis=1)"
   ]
  },
  {
   "cell_type": "code",
   "execution_count": 249,
   "id": "7cae27de",
   "metadata": {},
   "outputs": [],
   "source": [
    "y=df.total_bill"
   ]
  },
  {
   "cell_type": "code",
   "execution_count": 250,
   "id": "a561d751",
   "metadata": {},
   "outputs": [],
   "source": [
    "x_train,x_test,y_train,y_test=train_test_split(x,y,test_size=0.2,random_state=42)"
   ]
  },
  {
   "cell_type": "code",
   "execution_count": 251,
   "id": "99bb4f53",
   "metadata": {},
   "outputs": [],
   "source": [
    "scalar=StandardScaler()"
   ]
  },
  {
   "cell_type": "code",
   "execution_count": 252,
   "id": "2ecd8634",
   "metadata": {},
   "outputs": [],
   "source": [
    "x_train_scaled=scalar.fit_transform(x_train)\n",
    "x_test_scaled=scalar.fit_transform(x_test)"
   ]
  },
  {
   "cell_type": "code",
   "execution_count": 253,
   "id": "e5ec1737",
   "metadata": {},
   "outputs": [
    {
     "data": {
      "text/plain": [
       "(49, 6)"
      ]
     },
     "execution_count": 253,
     "metadata": {},
     "output_type": "execute_result"
    }
   ],
   "source": [
    "x_test_scaled.shape"
   ]
  },
  {
   "cell_type": "code",
   "execution_count": 254,
   "id": "994bd111",
   "metadata": {},
   "outputs": [],
   "source": [
    "model=tf.keras.Sequential([\n",
    "    \n",
    "    #input layer\n",
    "    tf.keras.layers.InputLayer(input_shape=x_train_scaled.shape[1:]),\n",
    "    \n",
    "    #hidden layers\n",
    "    tf.keras.layers.Dense(32,activation='relu'),\n",
    "    tf.keras.layers.Dense(16,activation='relu'),\n",
    "    tf.keras.layers.Dense(16,activation='relu'),\n",
    "    \n",
    "    #outputlayer\n",
    "    tf.keras.layers.Dense(1)\n",
    "])"
   ]
  },
  {
   "cell_type": "code",
   "execution_count": 255,
   "id": "5d3bf821",
   "metadata": {},
   "outputs": [],
   "source": [
    "model.compile(optimizer='adam',loss='mean_squared_error')"
   ]
  },
  {
   "cell_type": "code",
   "execution_count": 256,
   "id": "a67e5f44",
   "metadata": {},
   "outputs": [],
   "source": [
    "early_stopping=EarlyStopping(monitor='val_loss',patience=10,restore_best_weights=True)"
   ]
  },
  {
   "cell_type": "code",
   "execution_count": 257,
   "id": "3e6335ed",
   "metadata": {},
   "outputs": [
    {
     "name": "stdout",
     "output_type": "stream",
     "text": [
      "Epoch 1/100\n",
      "5/5 [==============================] - 1s 36ms/step - loss: 499.0438 - val_loss: 461.9488\n",
      "Epoch 2/100\n",
      "5/5 [==============================] - 0s 10ms/step - loss: 494.3594 - val_loss: 458.0104\n",
      "Epoch 3/100\n",
      "5/5 [==============================] - 0s 12ms/step - loss: 490.1880 - val_loss: 454.5152\n",
      "Epoch 4/100\n",
      "5/5 [==============================] - 0s 12ms/step - loss: 486.4185 - val_loss: 451.3183\n",
      "Epoch 5/100\n",
      "5/5 [==============================] - 0s 8ms/step - loss: 482.7890 - val_loss: 448.1791\n",
      "Epoch 6/100\n",
      "5/5 [==============================] - 0s 12ms/step - loss: 479.2578 - val_loss: 444.9639\n",
      "Epoch 7/100\n",
      "5/5 [==============================] - 0s 10ms/step - loss: 475.4753 - val_loss: 441.3712\n",
      "Epoch 8/100\n",
      "5/5 [==============================] - 0s 12ms/step - loss: 471.4305 - val_loss: 437.4058\n",
      "Epoch 9/100\n",
      "5/5 [==============================] - 0s 10ms/step - loss: 466.7265 - val_loss: 432.9158\n",
      "Epoch 10/100\n",
      "5/5 [==============================] - 0s 12ms/step - loss: 461.3328 - val_loss: 427.6287\n",
      "Epoch 11/100\n",
      "5/5 [==============================] - 0s 9ms/step - loss: 454.9523 - val_loss: 421.3504\n",
      "Epoch 12/100\n",
      "5/5 [==============================] - 0s 12ms/step - loss: 447.6364 - val_loss: 413.7608\n",
      "Epoch 13/100\n",
      "5/5 [==============================] - 0s 12ms/step - loss: 438.5196 - val_loss: 404.6582\n",
      "Epoch 14/100\n",
      "5/5 [==============================] - 0s 13ms/step - loss: 427.8932 - val_loss: 393.8827\n",
      "Epoch 15/100\n",
      "5/5 [==============================] - 0s 10ms/step - loss: 415.1045 - val_loss: 381.0949\n",
      "Epoch 16/100\n",
      "5/5 [==============================] - 0s 12ms/step - loss: 400.5420 - val_loss: 366.1133\n",
      "Epoch 17/100\n",
      "5/5 [==============================] - 0s 10ms/step - loss: 383.3130 - val_loss: 349.1842\n",
      "Epoch 18/100\n",
      "5/5 [==============================] - 0s 11ms/step - loss: 363.0089 - val_loss: 330.1216\n",
      "Epoch 19/100\n",
      "5/5 [==============================] - 0s 14ms/step - loss: 341.0526 - val_loss: 309.0574\n",
      "Epoch 20/100\n",
      "5/5 [==============================] - 0s 12ms/step - loss: 316.6265 - val_loss: 286.0027\n",
      "Epoch 21/100\n",
      "5/5 [==============================] - 0s 14ms/step - loss: 289.5397 - val_loss: 261.4698\n",
      "Epoch 22/100\n",
      "5/5 [==============================] - 0s 12ms/step - loss: 260.5351 - val_loss: 236.0665\n",
      "Epoch 23/100\n",
      "5/5 [==============================] - 0s 14ms/step - loss: 232.2726 - val_loss: 209.7991\n",
      "Epoch 24/100\n",
      "5/5 [==============================] - 0s 14ms/step - loss: 201.4230 - val_loss: 183.9955\n",
      "Epoch 25/100\n",
      "5/5 [==============================] - 0s 14ms/step - loss: 171.7347 - val_loss: 159.1789\n",
      "Epoch 26/100\n",
      "5/5 [==============================] - 0s 16ms/step - loss: 145.6174 - val_loss: 135.6490\n",
      "Epoch 27/100\n",
      "5/5 [==============================] - 0s 13ms/step - loss: 117.7808 - val_loss: 115.4647\n",
      "Epoch 28/100\n",
      "5/5 [==============================] - 0s 14ms/step - loss: 95.4822 - val_loss: 98.5415\n",
      "Epoch 29/100\n",
      "5/5 [==============================] - 0s 14ms/step - loss: 76.6166 - val_loss: 85.3387\n",
      "Epoch 30/100\n",
      "5/5 [==============================] - 0s 13ms/step - loss: 64.4966 - val_loss: 75.2320\n",
      "Epoch 31/100\n",
      "5/5 [==============================] - 0s 16ms/step - loss: 54.6256 - val_loss: 68.3716\n",
      "Epoch 32/100\n",
      "5/5 [==============================] - 0s 12ms/step - loss: 47.6651 - val_loss: 64.1057\n",
      "Epoch 33/100\n",
      "5/5 [==============================] - 0s 14ms/step - loss: 43.5413 - val_loss: 61.3068\n",
      "Epoch 34/100\n",
      "5/5 [==============================] - 0s 10ms/step - loss: 41.2528 - val_loss: 59.2042\n",
      "Epoch 35/100\n",
      "5/5 [==============================] - 0s 14ms/step - loss: 39.5256 - val_loss: 57.4718\n",
      "Epoch 36/100\n",
      "5/5 [==============================] - 0s 11ms/step - loss: 38.2897 - val_loss: 56.1397\n",
      "Epoch 37/100\n",
      "5/5 [==============================] - 0s 14ms/step - loss: 37.1984 - val_loss: 55.0661\n",
      "Epoch 38/100\n",
      "5/5 [==============================] - 0s 12ms/step - loss: 36.4204 - val_loss: 54.1697\n",
      "Epoch 39/100\n",
      "5/5 [==============================] - 0s 14ms/step - loss: 35.8632 - val_loss: 53.3999\n",
      "Epoch 40/100\n",
      "5/5 [==============================] - 0s 12ms/step - loss: 35.3471 - val_loss: 52.7564\n",
      "Epoch 41/100\n",
      "5/5 [==============================] - 0s 13ms/step - loss: 34.9699 - val_loss: 52.1114\n",
      "Epoch 42/100\n",
      "5/5 [==============================] - 0s 10ms/step - loss: 34.7077 - val_loss: 51.6030\n",
      "Epoch 43/100\n",
      "5/5 [==============================] - 0s 14ms/step - loss: 34.4328 - val_loss: 51.1182\n",
      "Epoch 44/100\n",
      "5/5 [==============================] - 0s 14ms/step - loss: 34.2302 - val_loss: 50.5431\n",
      "Epoch 45/100\n",
      "5/5 [==============================] - 0s 10ms/step - loss: 33.9537 - val_loss: 50.0780\n",
      "Epoch 46/100\n",
      "5/5 [==============================] - 0s 14ms/step - loss: 33.7586 - val_loss: 49.7369\n",
      "Epoch 47/100\n",
      "5/5 [==============================] - 0s 15ms/step - loss: 33.5674 - val_loss: 49.3500\n",
      "Epoch 48/100\n",
      "5/5 [==============================] - 0s 18ms/step - loss: 33.4325 - val_loss: 48.9437\n",
      "Epoch 49/100\n",
      "5/5 [==============================] - 0s 16ms/step - loss: 33.2090 - val_loss: 48.7026\n",
      "Epoch 50/100\n",
      "5/5 [==============================] - 0s 13ms/step - loss: 33.0526 - val_loss: 48.3534\n",
      "Epoch 51/100\n",
      "5/5 [==============================] - 0s 16ms/step - loss: 32.9062 - val_loss: 48.0831\n",
      "Epoch 52/100\n",
      "5/5 [==============================] - 0s 16ms/step - loss: 32.7929 - val_loss: 47.7928\n",
      "Epoch 53/100\n",
      "5/5 [==============================] - 0s 14ms/step - loss: 32.6183 - val_loss: 47.5631\n",
      "Epoch 54/100\n",
      "5/5 [==============================] - 0s 14ms/step - loss: 32.5142 - val_loss: 47.3546\n",
      "Epoch 55/100\n",
      "5/5 [==============================] - 0s 16ms/step - loss: 32.3494 - val_loss: 47.1261\n",
      "Epoch 56/100\n",
      "5/5 [==============================] - 0s 14ms/step - loss: 32.2684 - val_loss: 46.8498\n",
      "Epoch 57/100\n",
      "5/5 [==============================] - 0s 8ms/step - loss: 32.1607 - val_loss: 46.6671\n",
      "Epoch 58/100\n",
      "5/5 [==============================] - 0s 12ms/step - loss: 31.9928 - val_loss: 46.4603\n",
      "Epoch 59/100\n",
      "5/5 [==============================] - 0s 14ms/step - loss: 31.9220 - val_loss: 46.3911\n",
      "Epoch 60/100\n",
      "5/5 [==============================] - 0s 11ms/step - loss: 31.7801 - val_loss: 46.2291\n",
      "Epoch 61/100\n",
      "5/5 [==============================] - 0s 11ms/step - loss: 31.6340 - val_loss: 46.0299\n",
      "Epoch 62/100\n",
      "5/5 [==============================] - 0s 11ms/step - loss: 31.5595 - val_loss: 45.8484\n",
      "Epoch 63/100\n",
      "5/5 [==============================] - 0s 12ms/step - loss: 31.4386 - val_loss: 45.7370\n",
      "Epoch 64/100\n",
      "5/5 [==============================] - 0s 10ms/step - loss: 31.3115 - val_loss: 45.5815\n",
      "Epoch 65/100\n",
      "5/5 [==============================] - 0s 12ms/step - loss: 31.2486 - val_loss: 45.4347\n",
      "Epoch 66/100\n",
      "5/5 [==============================] - 0s 12ms/step - loss: 31.1304 - val_loss: 45.2749\n",
      "Epoch 67/100\n",
      "5/5 [==============================] - 0s 10ms/step - loss: 31.0266 - val_loss: 45.1457\n",
      "Epoch 68/100\n",
      "5/5 [==============================] - 0s 12ms/step - loss: 30.9229 - val_loss: 45.0006\n",
      "Epoch 69/100\n",
      "5/5 [==============================] - 0s 14ms/step - loss: 30.8581 - val_loss: 44.9066\n",
      "Epoch 70/100\n",
      "5/5 [==============================] - 0s 13ms/step - loss: 30.8043 - val_loss: 44.8320\n",
      "Epoch 71/100\n",
      "5/5 [==============================] - 0s 13ms/step - loss: 30.6825 - val_loss: 44.7766\n",
      "Epoch 72/100\n",
      "5/5 [==============================] - 0s 12ms/step - loss: 30.5832 - val_loss: 44.6993\n",
      "Epoch 73/100\n",
      "5/5 [==============================] - 0s 12ms/step - loss: 30.5125 - val_loss: 44.6945\n",
      "Epoch 74/100\n",
      "5/5 [==============================] - 0s 14ms/step - loss: 30.4113 - val_loss: 44.6000\n",
      "Epoch 75/100\n",
      "5/5 [==============================] - 0s 9ms/step - loss: 30.3361 - val_loss: 44.5404\n",
      "Epoch 76/100\n",
      "5/5 [==============================] - 0s 10ms/step - loss: 30.3003 - val_loss: 44.4579\n",
      "Epoch 77/100\n",
      "5/5 [==============================] - 0s 12ms/step - loss: 30.1990 - val_loss: 44.4225\n",
      "Epoch 78/100\n",
      "5/5 [==============================] - 0s 10ms/step - loss: 30.1509 - val_loss: 44.3709\n",
      "Epoch 79/100\n",
      "5/5 [==============================] - 0s 10ms/step - loss: 30.0705 - val_loss: 44.3379\n",
      "Epoch 80/100\n",
      "5/5 [==============================] - 0s 7ms/step - loss: 30.0212 - val_loss: 44.2876\n",
      "Epoch 81/100\n"
     ]
    },
    {
     "name": "stdout",
     "output_type": "stream",
     "text": [
      "5/5 [==============================] - 0s 12ms/step - loss: 29.9742 - val_loss: 44.2428\n",
      "Epoch 82/100\n",
      "5/5 [==============================] - 0s 10ms/step - loss: 29.9055 - val_loss: 44.2601\n",
      "Epoch 83/100\n",
      "5/5 [==============================] - 0s 11ms/step - loss: 29.8242 - val_loss: 44.1932\n",
      "Epoch 84/100\n",
      "5/5 [==============================] - 0s 10ms/step - loss: 29.7762 - val_loss: 44.1277\n",
      "Epoch 85/100\n",
      "5/5 [==============================] - 0s 12ms/step - loss: 29.7023 - val_loss: 44.0753\n",
      "Epoch 86/100\n",
      "5/5 [==============================] - 0s 10ms/step - loss: 29.6360 - val_loss: 44.0703\n",
      "Epoch 87/100\n",
      "5/5 [==============================] - 0s 10ms/step - loss: 29.6971 - val_loss: 44.0088\n",
      "Epoch 88/100\n",
      "5/5 [==============================] - 0s 10ms/step - loss: 29.5394 - val_loss: 43.9978\n",
      "Epoch 89/100\n",
      "5/5 [==============================] - 0s 12ms/step - loss: 29.4762 - val_loss: 44.0122\n",
      "Epoch 90/100\n",
      "5/5 [==============================] - 0s 10ms/step - loss: 29.4412 - val_loss: 44.0380\n",
      "Epoch 91/100\n",
      "5/5 [==============================] - 0s 9ms/step - loss: 29.3827 - val_loss: 44.0098\n",
      "Epoch 92/100\n",
      "5/5 [==============================] - 0s 11ms/step - loss: 29.3193 - val_loss: 43.9518\n",
      "Epoch 93/100\n",
      "5/5 [==============================] - 0s 10ms/step - loss: 29.3730 - val_loss: 43.9030\n",
      "Epoch 94/100\n",
      "5/5 [==============================] - 0s 11ms/step - loss: 29.2634 - val_loss: 43.8659\n",
      "Epoch 95/100\n",
      "5/5 [==============================] - 0s 11ms/step - loss: 29.2204 - val_loss: 43.8333\n",
      "Epoch 96/100\n",
      "5/5 [==============================] - 0s 11ms/step - loss: 29.1947 - val_loss: 43.8180\n",
      "Epoch 97/100\n",
      "5/5 [==============================] - 0s 12ms/step - loss: 29.0970 - val_loss: 43.7700\n",
      "Epoch 98/100\n",
      "5/5 [==============================] - 0s 11ms/step - loss: 29.0848 - val_loss: 43.7171\n",
      "Epoch 99/100\n",
      "5/5 [==============================] - 0s 11ms/step - loss: 29.0500 - val_loss: 43.7355\n",
      "Epoch 100/100\n",
      "5/5 [==============================] - 0s 8ms/step - loss: 28.9733 - val_loss: 43.7423\n"
     ]
    }
   ],
   "source": [
    "history=model.fit(x_train_scaled,y_train,epochs=100,batch_size=32,validation_split=0.2,callbacks=[early_stopping])"
   ]
  },
  {
   "cell_type": "code",
   "execution_count": 259,
   "id": "4d98a06f",
   "metadata": {},
   "outputs": [
    {
     "data": {
      "image/png": "[encoded data removed]",
      "text/plain": [
       "<Figure size 1200x600 with 1 Axes>"
      ]
     },
     "metadata": {},
     "output_type": "display_data"
    }
   ],
   "source": [
    "plt.figure(figsize=(12,6))\n",
    "plt.plot(history.history['loss'])\n",
    "plt.plot(history.history['val_loss'])\n",
    "plt.title('Model Loss')\n",
    "plt.xlabel('Epoch')\n",
    "plt.ylabel('Loss')\n",
    "plt.legend(['Train','Validation'],loc='upper right')\n",
    "plt.show()"
   ]
  },
  {
   "cell_type": "code",
   "execution_count": 260,
   "id": "d68c727a",
   "metadata": {},
   "outputs": [
    {
     "name": "stdout",
     "output_type": "stream",
     "text": [
      "2/2 [==============================] - 0s 4ms/step - loss: 45.9193\n",
      "Test loss:45.91926574707031\n"
     ]
    }
   ],
   "source": [
    "loss=model.evaluate(x_test_scaled,y_test)\n",
    "print(f\"Test loss:{loss}\")"
   ]
  }
 ],
 "metadata": {
  "kernelspec": {
   "display_name": "Python 3 (ipykernel)",
   "language": "python",
   "name": "python3"
  },
  "language_info": {
   "codemirror_mode": {
    "name": "ipython",
    "version": 3
   },
   "file_extension": ".py",
   "mimetype": "text/x-python",
   "name": "python",
   "nbconvert_exporter": "python",
   "pygments_lexer": "ipython3",
   "version": "3.9.13"
  }
 },
 "nbformat": 4,
 "nbformat_minor": 5
}
