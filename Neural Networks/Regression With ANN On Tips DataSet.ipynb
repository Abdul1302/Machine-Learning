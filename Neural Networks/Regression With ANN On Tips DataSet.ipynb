{
 "cells": [
  {
   "cell_type": "markdown",
   "id": "c1aec0ee",
   "metadata": {},
   "source": [
    "# Importing Laibraries"
   ]
  },
  {
   "cell_type": "code",
   "execution_count": 371,
   "id": "a57dcea7",
   "metadata": {},
   "outputs": [],
   "source": [
    "import pandas as pd\n",
    "import numpy as np\n",
    "import tensorflow as tf\n",
    "import seaborn as sns\n",
    "from sklearn.model_selection import train_test_split\n",
    "from sklearn.preprocessing import LabelEncoder,StandardScaler\n",
    "import matplotlib.pyplot as plt\n",
    "from tensorflow.keras.callbacks import EarlyStopping\n",
    "import matplotlib.pyplot as plt"
   ]
  },
  {
   "cell_type": "markdown",
   "id": "39457d4b",
   "metadata": {},
   "source": [
    "# Loading Tips Data Set"
   ]
  },
  {
   "cell_type": "code",
   "execution_count": 372,
   "id": "6b47b2b5",
   "metadata": {},
   "outputs": [],
   "source": [
    "df=sns.load_dataset('tips')"
   ]
  },
  {
   "cell_type": "code",
   "execution_count": 373,
   "id": "3200511d",
   "metadata": {},
   "outputs": [
    {
     "data": {
      "text/html": [
       "<div>\n",
       "<style scoped>\n",
       "    .dataframe tbody tr th:only-of-type {\n",
       "        vertical-align: middle;\n",
       "    }\n",
       "\n",
       "    .dataframe tbody tr th {\n",
       "        vertical-align: top;\n",
       "    }\n",
       "\n",
       "    .dataframe thead th {\n",
       "        text-align: right;\n",
       "    }\n",
       "</style>\n",
       "<table border=\"1\" class=\"dataframe\">\n",
       "  <thead>\n",
       "    <tr style=\"text-align: right;\">\n",
       "      <th></th>\n",
       "      <th>total_bill</th>\n",
       "      <th>tip</th>\n",
       "      <th>sex</th>\n",
       "      <th>smoker</th>\n",
       "      <th>day</th>\n",
       "      <th>time</th>\n",
       "      <th>size</th>\n",
       "    </tr>\n",
       "  </thead>\n",
       "  <tbody>\n",
       "    <tr>\n",
       "      <th>0</th>\n",
       "      <td>16.99</td>\n",
       "      <td>1.01</td>\n",
       "      <td>Female</td>\n",
       "      <td>No</td>\n",
       "      <td>Sun</td>\n",
       "      <td>Dinner</td>\n",
       "      <td>2</td>\n",
       "    </tr>\n",
       "    <tr>\n",
       "      <th>1</th>\n",
       "      <td>10.34</td>\n",
       "      <td>1.66</td>\n",
       "      <td>Male</td>\n",
       "      <td>No</td>\n",
       "      <td>Sun</td>\n",
       "      <td>Dinner</td>\n",
       "      <td>3</td>\n",
       "    </tr>\n",
       "    <tr>\n",
       "      <th>2</th>\n",
       "      <td>21.01</td>\n",
       "      <td>3.50</td>\n",
       "      <td>Male</td>\n",
       "      <td>No</td>\n",
       "      <td>Sun</td>\n",
       "      <td>Dinner</td>\n",
       "      <td>3</td>\n",
       "    </tr>\n",
       "    <tr>\n",
       "      <th>3</th>\n",
       "      <td>23.68</td>\n",
       "      <td>3.31</td>\n",
       "      <td>Male</td>\n",
       "      <td>No</td>\n",
       "      <td>Sun</td>\n",
       "      <td>Dinner</td>\n",
       "      <td>2</td>\n",
       "    </tr>\n",
       "    <tr>\n",
       "      <th>4</th>\n",
       "      <td>24.59</td>\n",
       "      <td>3.61</td>\n",
       "      <td>Female</td>\n",
       "      <td>No</td>\n",
       "      <td>Sun</td>\n",
       "      <td>Dinner</td>\n",
       "      <td>4</td>\n",
       "    </tr>\n",
       "  </tbody>\n",
       "</table>\n",
       "</div>"
      ],
      "text/plain": [
       "   total_bill   tip     sex smoker  day    time  size\n",
       "0       16.99  1.01  Female     No  Sun  Dinner     2\n",
       "1       10.34  1.66    Male     No  Sun  Dinner     3\n",
       "2       21.01  3.50    Male     No  Sun  Dinner     3\n",
       "3       23.68  3.31    Male     No  Sun  Dinner     2\n",
       "4       24.59  3.61  Female     No  Sun  Dinner     4"
      ]
     },
     "execution_count": 373,
     "metadata": {},
     "output_type": "execute_result"
    }
   ],
   "source": [
    "df.head()"
   ]
  },
  {
   "cell_type": "markdown",
   "id": "a9d0b6e4",
   "metadata": {},
   "source": [
    "# Data Preprocessing & EDA"
   ]
  },
  {
   "cell_type": "code",
   "execution_count": 374,
   "id": "bdaf1449",
   "metadata": {},
   "outputs": [
    {
     "data": {
      "text/plain": [
       "(244, 7)"
      ]
     },
     "execution_count": 374,
     "metadata": {},
     "output_type": "execute_result"
    }
   ],
   "source": [
    "df.shape"
   ]
  },
  {
   "cell_type": "code",
   "execution_count": 375,
   "id": "1889eb2c",
   "metadata": {},
   "outputs": [
    {
     "name": "stdout",
     "output_type": "stream",
     "text": [
      "<class 'pandas.core.frame.DataFrame'>\n",
      "RangeIndex: 244 entries, 0 to 243\n",
      "Data columns (total 7 columns):\n",
      " #   Column      Non-Null Count  Dtype   \n",
      "---  ------      --------------  -----   \n",
      " 0   total_bill  244 non-null    float64 \n",
      " 1   tip         244 non-null    float64 \n",
      " 2   sex         244 non-null    category\n",
      " 3   smoker      244 non-null    category\n",
      " 4   day         244 non-null    category\n",
      " 5   time        244 non-null    category\n",
      " 6   size        244 non-null    int64   \n",
      "dtypes: category(4), float64(2), int64(1)\n",
      "memory usage: 7.4 KB\n"
     ]
    }
   ],
   "source": [
    "df.info()"
   ]
  },
  {
   "cell_type": "code",
   "execution_count": 376,
   "id": "efb5d60f",
   "metadata": {},
   "outputs": [
    {
     "data": {
      "text/plain": [
       "total_bill    0\n",
       "tip           0\n",
       "sex           0\n",
       "smoker        0\n",
       "day           0\n",
       "time          0\n",
       "size          0\n",
       "dtype: int64"
      ]
     },
     "execution_count": 376,
     "metadata": {},
     "output_type": "execute_result"
    }
   ],
   "source": [
    "df.isnull().sum()"
   ]
  },
  {
   "cell_type": "code",
   "execution_count": 377,
   "id": "cedd7566",
   "metadata": {},
   "outputs": [
    {
     "data": {
      "text/plain": [
       "1"
      ]
     },
     "execution_count": 377,
     "metadata": {},
     "output_type": "execute_result"
    }
   ],
   "source": [
    "df.duplicated().sum()"
   ]
  },
  {
   "cell_type": "code",
   "execution_count": 378,
   "id": "6d52e297",
   "metadata": {},
   "outputs": [],
   "source": [
    "df.drop_duplicates(inplace=True)"
   ]
  },
  {
   "cell_type": "code",
   "execution_count": 379,
   "id": "66a7aa17",
   "metadata": {},
   "outputs": [
    {
     "data": {
      "text/plain": [
       "(243, 7)"
      ]
     },
     "execution_count": 379,
     "metadata": {},
     "output_type": "execute_result"
    }
   ],
   "source": [
    "df.shape"
   ]
  },
  {
   "cell_type": "code",
   "execution_count": 380,
   "id": "4b9e5690",
   "metadata": {},
   "outputs": [
    {
     "data": {
      "text/plain": [
       "array([16.99, 10.34, 21.01, 23.68, 24.59, 25.29,  8.77, 26.88, 15.04,\n",
       "       14.78, 10.27, 35.26, 15.42, 18.43, 14.83, 21.58, 10.33, 16.29,\n",
       "       16.97, 20.65, 17.92, 20.29, 15.77, 39.42, 19.82, 17.81, 13.37,\n",
       "       12.69, 21.7 , 19.65,  9.55, 18.35, 15.06, 20.69, 17.78, 24.06,\n",
       "       16.31, 16.93, 18.69, 31.27, 16.04, 17.46, 13.94,  9.68, 30.4 ,\n",
       "       18.29, 22.23, 32.4 , 28.55, 18.04, 12.54, 10.29, 34.81,  9.94,\n",
       "       25.56, 19.49, 38.01, 26.41, 11.24, 48.27, 13.81, 11.02, 17.59,\n",
       "       20.08, 16.45,  3.07, 20.23, 15.01, 12.02, 17.07, 26.86, 25.28,\n",
       "       14.73, 10.51, 27.2 , 22.76, 17.29, 19.44, 16.66, 10.07, 32.68,\n",
       "       15.98, 34.83, 13.03, 18.28, 24.71, 21.16, 28.97, 22.49,  5.75,\n",
       "       16.32, 22.75, 40.17, 27.28, 12.03, 12.46, 11.35, 15.38, 44.3 ,\n",
       "       22.42, 20.92, 15.36, 20.49, 25.21, 18.24, 14.31, 14.  ,  7.25,\n",
       "       38.07, 23.95, 25.71, 17.31, 29.93, 10.65, 12.43, 24.08, 11.69,\n",
       "       13.42, 14.26, 15.95, 12.48, 29.8 ,  8.52, 14.52, 11.38, 22.82,\n",
       "       19.08, 20.27, 11.17, 12.26, 18.26,  8.51, 14.15, 16.  , 13.16,\n",
       "       17.47, 34.3 , 41.19, 27.05, 16.43,  8.35, 18.64, 11.87,  9.78,\n",
       "        7.51, 14.07, 13.13, 17.26, 24.55, 19.77, 29.85, 48.17, 25.  ,\n",
       "       13.39, 16.49, 21.5 , 12.66, 16.21, 17.51, 24.52, 20.76, 31.71,\n",
       "       10.59, 10.63, 50.81, 15.81, 31.85, 16.82, 32.9 , 17.89, 14.48,\n",
       "        9.6 , 34.63, 34.65, 23.33, 45.35, 23.17, 40.55, 20.9 , 30.46,\n",
       "       18.15, 23.1 , 15.69, 19.81, 28.44, 15.48, 16.58,  7.56, 43.11,\n",
       "       13.  , 13.51, 18.71, 12.74, 16.4 , 20.53, 16.47, 26.59, 38.73,\n",
       "       24.27, 12.76, 30.06, 25.89, 48.33, 13.27, 28.17, 12.9 , 28.15,\n",
       "       11.59,  7.74, 30.14, 12.16,  8.58, 16.27, 10.09, 20.45, 13.28,\n",
       "       22.12, 24.01, 11.61, 10.77, 15.53, 12.6 , 32.83, 35.83, 29.03,\n",
       "       27.18, 22.67, 17.82, 18.78])"
      ]
     },
     "execution_count": 380,
     "metadata": {},
     "output_type": "execute_result"
    }
   ],
   "source": [
    "df.total_bill.unique()"
   ]
  },
  {
   "cell_type": "code",
   "execution_count": 381,
   "id": "eaa61299",
   "metadata": {},
   "outputs": [
    {
     "data": {
      "text/plain": [
       "array([ 1.01,  1.66,  3.5 ,  3.31,  3.61,  4.71,  2.  ,  3.12,  1.96,\n",
       "        3.23,  1.71,  5.  ,  1.57,  3.  ,  3.02,  3.92,  1.67,  3.71,\n",
       "        3.35,  4.08,  2.75,  2.23,  7.58,  3.18,  2.34,  4.3 ,  1.45,\n",
       "        2.5 ,  2.45,  3.27,  3.6 ,  3.07,  2.31,  2.24,  2.54,  3.06,\n",
       "        1.32,  5.6 ,  6.  ,  2.05,  2.6 ,  5.2 ,  1.56,  4.34,  3.51,\n",
       "        1.5 ,  1.76,  6.73,  3.21,  1.98,  3.76,  2.64,  3.15,  2.47,\n",
       "        1.  ,  2.01,  2.09,  1.97,  3.14,  2.2 ,  1.25,  3.08,  4.  ,\n",
       "        2.71,  3.4 ,  1.83,  2.03,  5.17,  5.85,  3.25,  4.73,  3.48,\n",
       "        1.64,  4.06,  4.29,  2.55,  5.07,  1.8 ,  2.92,  1.68,  2.52,\n",
       "        4.2 ,  1.48,  2.18,  2.83,  6.7 ,  2.3 ,  1.36,  1.63,  1.73,\n",
       "        2.74,  5.14,  3.75,  2.61,  4.5 ,  1.61, 10.  ,  3.16,  5.15,\n",
       "        3.11,  3.55,  3.68,  5.65,  6.5 ,  4.19,  2.56,  2.02,  1.44,\n",
       "        3.41,  5.16,  9.  ,  1.1 ,  3.09,  1.92,  1.58,  2.72,  2.88,\n",
       "        3.39,  1.47,  1.17,  4.67,  5.92,  1.75])"
      ]
     },
     "execution_count": 381,
     "metadata": {},
     "output_type": "execute_result"
    }
   ],
   "source": [
    "df.tip.unique()"
   ]
  },
  {
   "cell_type": "code",
   "execution_count": 382,
   "id": "02b3a449",
   "metadata": {},
   "outputs": [
    {
     "data": {
      "text/plain": [
       "['Female', 'Male']\n",
       "Categories (2, object): ['Male', 'Female']"
      ]
     },
     "execution_count": 382,
     "metadata": {},
     "output_type": "execute_result"
    }
   ],
   "source": [
    "df.sex.unique()"
   ]
  },
  {
   "cell_type": "code",
   "execution_count": 383,
   "id": "4f36c322",
   "metadata": {},
   "outputs": [
    {
     "data": {
      "text/plain": [
       "['No', 'Yes']\n",
       "Categories (2, object): ['Yes', 'No']"
      ]
     },
     "execution_count": 383,
     "metadata": {},
     "output_type": "execute_result"
    }
   ],
   "source": [
    "df.smoker.unique()"
   ]
  },
  {
   "cell_type": "code",
   "execution_count": 384,
   "id": "94e4293f",
   "metadata": {},
   "outputs": [
    {
     "data": {
      "text/plain": [
       "['Sun', 'Sat', 'Thur', 'Fri']\n",
       "Categories (4, object): ['Thur', 'Fri', 'Sat', 'Sun']"
      ]
     },
     "execution_count": 384,
     "metadata": {},
     "output_type": "execute_result"
    }
   ],
   "source": [
    "df.day.unique()"
   ]
  },
  {
   "cell_type": "code",
   "execution_count": 385,
   "id": "05f41e93",
   "metadata": {},
   "outputs": [
    {
     "data": {
      "text/plain": [
       "['Dinner', 'Lunch']\n",
       "Categories (2, object): ['Lunch', 'Dinner']"
      ]
     },
     "execution_count": 385,
     "metadata": {},
     "output_type": "execute_result"
    }
   ],
   "source": [
    "df.time.unique()"
   ]
  },
  {
   "cell_type": "code",
   "execution_count": 386,
   "id": "5e54f4ca",
   "metadata": {},
   "outputs": [
    {
     "data": {
      "text/plain": [
       "Male      157\n",
       "Female     86\n",
       "Name: sex, dtype: int64"
      ]
     },
     "execution_count": 386,
     "metadata": {},
     "output_type": "execute_result"
    }
   ],
   "source": [
    "value_count=df.sex.value_counts()\n",
    "value_count"
   ]
  },
  {
   "cell_type": "code",
   "execution_count": 387,
   "id": "b05a6f97",
   "metadata": {},
   "outputs": [
    {
     "data": {
      "text/plain": [
       "<function matplotlib.pyplot.show(close=None, block=None)>"
      ]
     },
     "execution_count": 387,
     "metadata": {},
     "output_type": "execute_result"
    },
    {
     "data": {
      "image/png": "[encoded data removed]",
      "text/plain": [
       "<Figure size 640x480 with 1 Axes>"
      ]
     },
     "metadata": {},
     "output_type": "display_data"
    }
   ],
   "source": [
    "plt.pie(value_count,labels=[\"Female\",\"Male\"],autopct='%0.2f')\n",
    "plt.show"
   ]
  },
  {
   "cell_type": "code",
   "execution_count": 388,
   "id": "19077a0a",
   "metadata": {},
   "outputs": [
    {
     "data": {
      "text/plain": [
       "No     151\n",
       "Yes     92\n",
       "Name: smoker, dtype: int64"
      ]
     },
     "execution_count": 388,
     "metadata": {},
     "output_type": "execute_result"
    }
   ],
   "source": [
    "value_count=df.smoker.value_counts()\n",
    "value_count"
   ]
  },
  {
   "cell_type": "code",
   "execution_count": 389,
   "id": "9a3bb66b",
   "metadata": {},
   "outputs": [
    {
     "data": {
      "text/plain": [
       "<function matplotlib.pyplot.show(close=None, block=None)>"
      ]
     },
     "execution_count": 389,
     "metadata": {},
     "output_type": "execute_result"
    },
    {
     "data": {
      "image/png": "[encoded data removed]",
      "text/plain": [
       "<Figure size 640x480 with 1 Axes>"
      ]
     },
     "metadata": {},
     "output_type": "display_data"
    }
   ],
   "source": [
    "plt.pie(value_count,labels=[\"No\",\"Yes\"],autopct='%0.2f')\n",
    "plt.show"
   ]
  },
  {
   "cell_type": "code",
   "execution_count": 390,
   "id": "9ece9995",
   "metadata": {},
   "outputs": [
    {
     "data": {
      "text/plain": [
       "Sat     87\n",
       "Sun     76\n",
       "Thur    61\n",
       "Fri     19\n",
       "Name: day, dtype: int64"
      ]
     },
     "execution_count": 390,
     "metadata": {},
     "output_type": "execute_result"
    }
   ],
   "source": [
    "value_count=df.day.value_counts()\n",
    "value_count"
   ]
  },
  {
   "cell_type": "code",
   "execution_count": 391,
   "id": "3f082fcd",
   "metadata": {},
   "outputs": [
    {
     "data": {
      "text/plain": [
       "<function matplotlib.pyplot.show(close=None, block=None)>"
      ]
     },
     "execution_count": 391,
     "metadata": {},
     "output_type": "execute_result"
    },
    {
     "data": {
      "image/png": "[encoded data removed]",
      "text/plain": [
       "<Figure size 640x480 with 1 Axes>"
      ]
     },
     "metadata": {},
     "output_type": "display_data"
    }
   ],
   "source": [
    "plt.pie(value_count,labels=['Sat','Sun','Thur','Fri'],autopct='%0.2f')\n",
    "plt.show"
   ]
  },
  {
   "cell_type": "code",
   "execution_count": 392,
   "id": "7749ec72",
   "metadata": {},
   "outputs": [
    {
     "data": {
      "text/plain": [
       "Dinner    176\n",
       "Lunch      67\n",
       "Name: time, dtype: int64"
      ]
     },
     "execution_count": 392,
     "metadata": {},
     "output_type": "execute_result"
    }
   ],
   "source": [
    "value_count=df.time.value_counts()\n",
    "value_count"
   ]
  },
  {
   "cell_type": "code",
   "execution_count": 393,
   "id": "19742127",
   "metadata": {},
   "outputs": [
    {
     "data": {
      "text/plain": [
       "<function matplotlib.pyplot.show(close=None, block=None)>"
      ]
     },
     "execution_count": 393,
     "metadata": {},
     "output_type": "execute_result"
    },
    {
     "data": {
      "image/png": "[encoded data removed]",
      "text/plain": [
       "<Figure size 640x480 with 1 Axes>"
      ]
     },
     "metadata": {},
     "output_type": "display_data"
    }
   ],
   "source": [
    "plt.pie(value_count,labels=['Dinner','Lunch'],autopct='%0.2f')\n",
    "plt.show"
   ]
  },
  {
   "cell_type": "code",
   "execution_count": 394,
   "id": "a63ad2f8",
   "metadata": {},
   "outputs": [
    {
     "data": {
      "image/png": "[encoded data removed]",
      "text/plain": [
       "<Figure size 640x480 with 1 Axes>"
      ]
     },
     "metadata": {},
     "output_type": "display_data"
    }
   ],
   "source": [
    "plt.hist(df['tip'], bins=20, color='skyblue', edgecolor='black')\n",
    "plt.title('Histogram of Unique Tip Values')\n",
    "plt.xlabel('Tip Values')\n",
    "plt.ylabel('Frequency')\n",
    "plt.show()"
   ]
  },
  {
   "cell_type": "code",
   "execution_count": 395,
   "id": "001e88de",
   "metadata": {},
   "outputs": [
    {
     "data": {
      "image/png": "[encoded data removed]",
      "text/plain": [
       "<Figure size 640x480 with 1 Axes>"
      ]
     },
     "metadata": {},
     "output_type": "display_data"
    }
   ],
   "source": [
    "plt.hist(df['total_bill'], bins=20, color='skyblue', edgecolor='black')\n",
    "plt.title('Histogram of Unique Total-Bill Values')\n",
    "plt.xlabel('Total-Bill ')\n",
    "plt.ylabel('Frequency')\n",
    "plt.show()"
   ]
  },
  {
   "cell_type": "markdown",
   "id": "de8e032c",
   "metadata": {},
   "source": [
    "# Data Encoding"
   ]
  },
  {
   "cell_type": "code",
   "execution_count": 396,
   "id": "3979ad12",
   "metadata": {},
   "outputs": [],
   "source": [
    "le=LabelEncoder()"
   ]
  },
  {
   "cell_type": "code",
   "execution_count": 397,
   "id": "0a6894fd",
   "metadata": {},
   "outputs": [],
   "source": [
    "df['sex']=le.fit_transform(df['sex'])\n",
    "df['smoker']=le.fit_transform(df['smoker'])\n",
    "df['day']=le.fit_transform(df['day'])\n",
    "df['time']=le.fit_transform(df['time'])"
   ]
  },
  {
   "cell_type": "code",
   "execution_count": 398,
   "id": "098d2361",
   "metadata": {},
   "outputs": [
    {
     "data": {
      "text/html": [
       "<div>\n",
       "<style scoped>\n",
       "    .dataframe tbody tr th:only-of-type {\n",
       "        vertical-align: middle;\n",
       "    }\n",
       "\n",
       "    .dataframe tbody tr th {\n",
       "        vertical-align: top;\n",
       "    }\n",
       "\n",
       "    .dataframe thead th {\n",
       "        text-align: right;\n",
       "    }\n",
       "</style>\n",
       "<table border=\"1\" class=\"dataframe\">\n",
       "  <thead>\n",
       "    <tr style=\"text-align: right;\">\n",
       "      <th></th>\n",
       "      <th>total_bill</th>\n",
       "      <th>tip</th>\n",
       "      <th>sex</th>\n",
       "      <th>smoker</th>\n",
       "      <th>day</th>\n",
       "      <th>time</th>\n",
       "      <th>size</th>\n",
       "    </tr>\n",
       "  </thead>\n",
       "  <tbody>\n",
       "    <tr>\n",
       "      <th>0</th>\n",
       "      <td>16.99</td>\n",
       "      <td>1.01</td>\n",
       "      <td>0</td>\n",
       "      <td>0</td>\n",
       "      <td>2</td>\n",
       "      <td>0</td>\n",
       "      <td>2</td>\n",
       "    </tr>\n",
       "    <tr>\n",
       "      <th>1</th>\n",
       "      <td>10.34</td>\n",
       "      <td>1.66</td>\n",
       "      <td>1</td>\n",
       "      <td>0</td>\n",
       "      <td>2</td>\n",
       "      <td>0</td>\n",
       "      <td>3</td>\n",
       "    </tr>\n",
       "    <tr>\n",
       "      <th>2</th>\n",
       "      <td>21.01</td>\n",
       "      <td>3.50</td>\n",
       "      <td>1</td>\n",
       "      <td>0</td>\n",
       "      <td>2</td>\n",
       "      <td>0</td>\n",
       "      <td>3</td>\n",
       "    </tr>\n",
       "    <tr>\n",
       "      <th>3</th>\n",
       "      <td>23.68</td>\n",
       "      <td>3.31</td>\n",
       "      <td>1</td>\n",
       "      <td>0</td>\n",
       "      <td>2</td>\n",
       "      <td>0</td>\n",
       "      <td>2</td>\n",
       "    </tr>\n",
       "    <tr>\n",
       "      <th>4</th>\n",
       "      <td>24.59</td>\n",
       "      <td>3.61</td>\n",
       "      <td>0</td>\n",
       "      <td>0</td>\n",
       "      <td>2</td>\n",
       "      <td>0</td>\n",
       "      <td>4</td>\n",
       "    </tr>\n",
       "  </tbody>\n",
       "</table>\n",
       "</div>"
      ],
      "text/plain": [
       "   total_bill   tip  sex  smoker  day  time  size\n",
       "0       16.99  1.01    0       0    2     0     2\n",
       "1       10.34  1.66    1       0    2     0     3\n",
       "2       21.01  3.50    1       0    2     0     3\n",
       "3       23.68  3.31    1       0    2     0     2\n",
       "4       24.59  3.61    0       0    2     0     4"
      ]
     },
     "execution_count": 398,
     "metadata": {},
     "output_type": "execute_result"
    }
   ],
   "source": [
    "df.head()"
   ]
  },
  {
   "cell_type": "markdown",
   "id": "5a11eaa6",
   "metadata": {},
   "source": [
    "# Data Seperation"
   ]
  },
  {
   "cell_type": "code",
   "execution_count": 399,
   "id": "4d2c0787",
   "metadata": {},
   "outputs": [],
   "source": [
    "x=df.drop('total_bill',axis=1)"
   ]
  },
  {
   "cell_type": "code",
   "execution_count": 400,
   "id": "7cae27de",
   "metadata": {},
   "outputs": [],
   "source": [
    "y=df.total_bill"
   ]
  },
  {
   "cell_type": "code",
   "execution_count": 401,
   "id": "2884b3b6",
   "metadata": {},
   "outputs": [],
   "source": [
    "x_train,x_test,y_train,y_test=train_test_split(x,y,test_size=0.2,random_state=42)"
   ]
  },
  {
   "cell_type": "markdown",
   "id": "14291f21",
   "metadata": {},
   "source": [
    "# Data Standardization"
   ]
  },
  {
   "cell_type": "code",
   "execution_count": 402,
   "id": "c373f032",
   "metadata": {},
   "outputs": [],
   "source": [
    "scalar=StandardScaler()"
   ]
  },
  {
   "cell_type": "code",
   "execution_count": 403,
   "id": "def3b41d",
   "metadata": {},
   "outputs": [],
   "source": [
    "x_train_scaled=scalar.fit_transform(x_train)\n",
    "x_test_scaled=scalar.fit_transform(x_test)"
   ]
  },
  {
   "cell_type": "code",
   "execution_count": 404,
   "id": "b289e04c",
   "metadata": {},
   "outputs": [
    {
     "data": {
      "text/plain": [
       "(49, 6)"
      ]
     },
     "execution_count": 404,
     "metadata": {},
     "output_type": "execute_result"
    }
   ],
   "source": [
    "x_test_scaled.shape"
   ]
  },
  {
   "cell_type": "markdown",
   "id": "a070f2af",
   "metadata": {},
   "source": [
    "# Data Modeling With Neural Network Architecture"
   ]
  },
  {
   "cell_type": "code",
   "execution_count": 405,
   "id": "f3469918",
   "metadata": {},
   "outputs": [],
   "source": [
    "model=tf.keras.Sequential([\n",
    "    \n",
    "    #input layer\n",
    "    tf.keras.layers.InputLayer(input_shape=x_train_scaled.shape[1:]),\n",
    "    \n",
    "    #hidden layers\n",
    "    tf.keras.layers.Dense(32,activation='relu'),\n",
    "    tf.keras.layers.Dense(16,activation='relu'),\n",
    "    tf.keras.layers.Dense(8,activation='relu'),\n",
    "    \n",
    "    #outputlayer\n",
    "    tf.keras.layers.Dense(1)\n",
    "])"
   ]
  },
  {
   "cell_type": "code",
   "execution_count": 406,
   "id": "925e2c3f",
   "metadata": {},
   "outputs": [],
   "source": [
    "model.compile(optimizer='adam',loss='mean_squared_error')"
   ]
  },
  {
   "cell_type": "code",
   "execution_count": 407,
   "id": "d27635ad",
   "metadata": {},
   "outputs": [],
   "source": [
    "early_stopping=EarlyStopping(monitor='val_loss',patience=10,restore_best_weights=True)"
   ]
  },
  {
   "cell_type": "code",
   "execution_count": 408,
   "id": "83aa3800",
   "metadata": {},
   "outputs": [
    {
     "name": "stdout",
     "output_type": "stream",
     "text": [
      "Epoch 1/100\n",
      "5/5 [==============================] - 1s 36ms/step - loss: 453.6389 - val_loss: 420.5383\n",
      "Epoch 2/100\n",
      "5/5 [==============================] - 0s 9ms/step - loss: 444.8652 - val_loss: 412.6931\n",
      "Epoch 3/100\n",
      "5/5 [==============================] - 0s 12ms/step - loss: 435.5094 - val_loss: 403.9510\n",
      "Epoch 4/100\n",
      "5/5 [==============================] - 0s 10ms/step - loss: 425.5276 - val_loss: 394.4052\n",
      "Epoch 5/100\n",
      "5/5 [==============================] - 0s 11ms/step - loss: 414.4206 - val_loss: 383.8777\n",
      "Epoch 6/100\n",
      "5/5 [==============================] - 0s 14ms/step - loss: 402.3158 - val_loss: 372.3660\n",
      "Epoch 7/100\n",
      "5/5 [==============================] - 0s 12ms/step - loss: 388.8340 - val_loss: 359.9398\n",
      "Epoch 8/100\n",
      "5/5 [==============================] - 0s 12ms/step - loss: 374.7294 - val_loss: 346.3699\n",
      "Epoch 9/100\n",
      "5/5 [==============================] - 0s 12ms/step - loss: 359.0245 - val_loss: 331.6478\n",
      "Epoch 10/100\n",
      "5/5 [==============================] - 0s 11ms/step - loss: 341.7161 - val_loss: 315.7910\n",
      "Epoch 11/100\n",
      "5/5 [==============================] - 0s 12ms/step - loss: 323.6669 - val_loss: 298.9350\n",
      "Epoch 12/100\n",
      "5/5 [==============================] - 0s 12ms/step - loss: 304.7270 - val_loss: 281.2347\n",
      "Epoch 13/100\n",
      "5/5 [==============================] - 0s 13ms/step - loss: 284.0076 - val_loss: 262.6752\n",
      "Epoch 14/100\n",
      "5/5 [==============================] - 0s 13ms/step - loss: 262.5894 - val_loss: 243.1959\n",
      "Epoch 15/100\n",
      "5/5 [==============================] - 0s 10ms/step - loss: 240.0217 - val_loss: 222.9775\n",
      "Epoch 16/100\n",
      "5/5 [==============================] - 0s 12ms/step - loss: 215.1439 - val_loss: 202.7197\n",
      "Epoch 17/100\n",
      "5/5 [==============================] - 0s 12ms/step - loss: 191.8904 - val_loss: 182.0753\n",
      "Epoch 18/100\n",
      "5/5 [==============================] - 0s 10ms/step - loss: 168.7401 - val_loss: 161.8780\n",
      "Epoch 19/100\n",
      "5/5 [==============================] - 0s 10ms/step - loss: 145.2743 - val_loss: 143.0154\n",
      "Epoch 20/100\n",
      "5/5 [==============================] - 0s 12ms/step - loss: 124.7475 - val_loss: 125.6766\n",
      "Epoch 21/100\n",
      "5/5 [==============================] - 0s 12ms/step - loss: 105.4175 - val_loss: 110.4604\n",
      "Epoch 22/100\n",
      "5/5 [==============================] - 0s 12ms/step - loss: 89.4156 - val_loss: 97.5081\n",
      "Epoch 23/100\n",
      "5/5 [==============================] - 0s 12ms/step - loss: 75.5874 - val_loss: 87.0713\n",
      "Epoch 24/100\n",
      "5/5 [==============================] - 0s 13ms/step - loss: 64.6521 - val_loss: 79.0503\n",
      "Epoch 25/100\n",
      "5/5 [==============================] - 0s 12ms/step - loss: 56.8997 - val_loss: 73.0664\n",
      "Epoch 26/100\n",
      "5/5 [==============================] - 0s 12ms/step - loss: 51.4407 - val_loss: 68.7151\n",
      "Epoch 27/100\n",
      "5/5 [==============================] - 0s 11ms/step - loss: 47.2060 - val_loss: 65.6162\n",
      "Epoch 28/100\n",
      "5/5 [==============================] - 0s 8ms/step - loss: 44.5962 - val_loss: 63.3468\n",
      "Epoch 29/100\n",
      "5/5 [==============================] - 0s 12ms/step - loss: 43.0374 - val_loss: 61.4398\n",
      "Epoch 30/100\n",
      "5/5 [==============================] - 0s 12ms/step - loss: 41.4095 - val_loss: 60.0095\n",
      "Epoch 31/100\n",
      "5/5 [==============================] - 0s 11ms/step - loss: 40.4742 - val_loss: 58.7958\n",
      "Epoch 32/100\n",
      "5/5 [==============================] - 0s 12ms/step - loss: 39.4970 - val_loss: 57.7637\n",
      "Epoch 33/100\n",
      "5/5 [==============================] - 0s 11ms/step - loss: 38.8916 - val_loss: 56.8346\n",
      "Epoch 34/100\n",
      "5/5 [==============================] - 0s 11ms/step - loss: 38.1976 - val_loss: 55.9425\n",
      "Epoch 35/100\n",
      "5/5 [==============================] - 0s 12ms/step - loss: 37.7009 - val_loss: 55.1843\n",
      "Epoch 36/100\n",
      "5/5 [==============================] - 0s 11ms/step - loss: 37.2162 - val_loss: 54.4956\n",
      "Epoch 37/100\n",
      "5/5 [==============================] - 0s 10ms/step - loss: 36.7704 - val_loss: 53.7739\n",
      "Epoch 38/100\n",
      "5/5 [==============================] - 0s 11ms/step - loss: 36.3466 - val_loss: 53.1574\n",
      "Epoch 39/100\n",
      "5/5 [==============================] - 0s 13ms/step - loss: 35.9725 - val_loss: 52.5959\n",
      "Epoch 40/100\n",
      "5/5 [==============================] - 0s 11ms/step - loss: 35.5793 - val_loss: 52.1839\n",
      "Epoch 41/100\n",
      "5/5 [==============================] - 0s 13ms/step - loss: 35.3328 - val_loss: 51.6790\n",
      "Epoch 42/100\n",
      "5/5 [==============================] - 0s 10ms/step - loss: 35.0413 - val_loss: 51.2139\n",
      "Epoch 43/100\n",
      "5/5 [==============================] - 0s 12ms/step - loss: 34.6941 - val_loss: 50.8334\n",
      "Epoch 44/100\n",
      "5/5 [==============================] - 0s 12ms/step - loss: 34.4176 - val_loss: 50.4691\n",
      "Epoch 45/100\n",
      "5/5 [==============================] - 0s 11ms/step - loss: 34.1553 - val_loss: 50.1344\n",
      "Epoch 46/100\n",
      "5/5 [==============================] - 0s 16ms/step - loss: 33.9181 - val_loss: 49.8065\n",
      "Epoch 47/100\n",
      "5/5 [==============================] - 0s 10ms/step - loss: 33.7048 - val_loss: 49.5127\n",
      "Epoch 48/100\n",
      "5/5 [==============================] - 0s 12ms/step - loss: 33.4442 - val_loss: 49.2658\n",
      "Epoch 49/100\n",
      "5/5 [==============================] - 0s 12ms/step - loss: 33.2335 - val_loss: 49.0128\n",
      "Epoch 50/100\n",
      "5/5 [==============================] - 0s 13ms/step - loss: 33.0360 - val_loss: 48.7222\n",
      "Epoch 51/100\n",
      "5/5 [==============================] - 0s 12ms/step - loss: 32.8459 - val_loss: 48.5122\n",
      "Epoch 52/100\n",
      "5/5 [==============================] - 0s 11ms/step - loss: 32.6582 - val_loss: 48.3284\n",
      "Epoch 53/100\n",
      "5/5 [==============================] - 0s 13ms/step - loss: 32.4692 - val_loss: 48.0922\n",
      "Epoch 54/100\n",
      "5/5 [==============================] - 0s 11ms/step - loss: 32.3280 - val_loss: 47.8879\n",
      "Epoch 55/100\n",
      "5/5 [==============================] - 0s 8ms/step - loss: 32.0869 - val_loss: 47.6686\n",
      "Epoch 56/100\n",
      "5/5 [==============================] - 0s 8ms/step - loss: 31.9152 - val_loss: 47.5047\n",
      "Epoch 57/100\n",
      "5/5 [==============================] - 0s 10ms/step - loss: 31.7700 - val_loss: 47.3322\n",
      "Epoch 58/100\n",
      "5/5 [==============================] - 0s 8ms/step - loss: 31.6635 - val_loss: 47.1659\n",
      "Epoch 59/100\n",
      "5/5 [==============================] - 0s 8ms/step - loss: 31.5183 - val_loss: 47.0124\n",
      "Epoch 60/100\n",
      "5/5 [==============================] - 0s 8ms/step - loss: 31.2987 - val_loss: 46.8650\n",
      "Epoch 61/100\n",
      "5/5 [==============================] - 0s 10ms/step - loss: 31.1216 - val_loss: 46.6922\n",
      "Epoch 62/100\n",
      "5/5 [==============================] - 0s 10ms/step - loss: 31.0013 - val_loss: 46.5419\n",
      "Epoch 63/100\n",
      "5/5 [==============================] - 0s 10ms/step - loss: 30.9336 - val_loss: 46.3966\n",
      "Epoch 64/100\n",
      "5/5 [==============================] - 0s 10ms/step - loss: 30.7248 - val_loss: 46.3013\n",
      "Epoch 65/100\n",
      "5/5 [==============================] - 0s 11ms/step - loss: 30.6415 - val_loss: 46.2064\n",
      "Epoch 66/100\n",
      "5/5 [==============================] - 0s 10ms/step - loss: 30.4928 - val_loss: 46.0761\n",
      "Epoch 67/100\n",
      "5/5 [==============================] - 0s 10ms/step - loss: 30.3588 - val_loss: 45.9755\n",
      "Epoch 68/100\n",
      "5/5 [==============================] - 0s 7ms/step - loss: 30.2402 - val_loss: 45.8744\n",
      "Epoch 69/100\n",
      "5/5 [==============================] - 0s 10ms/step - loss: 30.1109 - val_loss: 45.7521\n",
      "Epoch 70/100\n",
      "5/5 [==============================] - 0s 10ms/step - loss: 30.0159 - val_loss: 45.7229\n",
      "Epoch 71/100\n",
      "5/5 [==============================] - 0s 10ms/step - loss: 29.9063 - val_loss: 45.6280\n",
      "Epoch 72/100\n",
      "5/5 [==============================] - 0s 11ms/step - loss: 29.7829 - val_loss: 45.5336\n",
      "Epoch 73/100\n",
      "5/5 [==============================] - 0s 10ms/step - loss: 29.7173 - val_loss: 45.4628\n",
      "Epoch 74/100\n",
      "5/5 [==============================] - 0s 10ms/step - loss: 29.6095 - val_loss: 45.4130\n",
      "Epoch 75/100\n",
      "5/5 [==============================] - 0s 13ms/step - loss: 29.4722 - val_loss: 45.3593\n",
      "Epoch 76/100\n",
      "5/5 [==============================] - 0s 10ms/step - loss: 29.3740 - val_loss: 45.3342\n",
      "Epoch 77/100\n",
      "5/5 [==============================] - 0s 8ms/step - loss: 29.2874 - val_loss: 45.2671\n",
      "Epoch 78/100\n",
      "5/5 [==============================] - 0s 10ms/step - loss: 29.2327 - val_loss: 45.2761\n",
      "Epoch 79/100\n",
      "5/5 [==============================] - 0s 12ms/step - loss: 29.0565 - val_loss: 45.2394\n",
      "Epoch 80/100\n",
      "5/5 [==============================] - 0s 12ms/step - loss: 28.9656 - val_loss: 45.2271\n",
      "Epoch 81/100\n",
      "5/5 [==============================] - 0s 9ms/step - loss: 28.9429 - val_loss: 45.1471\n"
     ]
    },
    {
     "name": "stdout",
     "output_type": "stream",
     "text": [
      "Epoch 82/100\n",
      "5/5 [==============================] - 0s 10ms/step - loss: 28.8629 - val_loss: 45.1571\n",
      "Epoch 83/100\n",
      "5/5 [==============================] - 0s 12ms/step - loss: 28.7626 - val_loss: 45.1088\n",
      "Epoch 84/100\n",
      "5/5 [==============================] - 0s 11ms/step - loss: 28.6644 - val_loss: 45.0718\n",
      "Epoch 85/100\n",
      "5/5 [==============================] - 0s 10ms/step - loss: 28.5542 - val_loss: 45.0300\n",
      "Epoch 86/100\n",
      "5/5 [==============================] - 0s 10ms/step - loss: 28.4759 - val_loss: 45.0455\n",
      "Epoch 87/100\n",
      "5/5 [==============================] - 0s 13ms/step - loss: 28.4095 - val_loss: 45.0139\n",
      "Epoch 88/100\n",
      "5/5 [==============================] - 0s 10ms/step - loss: 28.3286 - val_loss: 45.0021\n",
      "Epoch 89/100\n",
      "5/5 [==============================] - 0s 10ms/step - loss: 28.2396 - val_loss: 44.9983\n",
      "Epoch 90/100\n",
      "5/5 [==============================] - 0s 10ms/step - loss: 28.2018 - val_loss: 44.9822\n",
      "Epoch 91/100\n",
      "5/5 [==============================] - 0s 8ms/step - loss: 28.1209 - val_loss: 44.9892\n",
      "Epoch 92/100\n",
      "5/5 [==============================] - 0s 11ms/step - loss: 28.0238 - val_loss: 45.0226\n",
      "Epoch 93/100\n",
      "5/5 [==============================] - 0s 12ms/step - loss: 27.9811 - val_loss: 44.9891\n",
      "Epoch 94/100\n",
      "5/5 [==============================] - 0s 9ms/step - loss: 27.8990 - val_loss: 44.9827\n",
      "Epoch 95/100\n",
      "5/5 [==============================] - 0s 9ms/step - loss: 27.8276 - val_loss: 44.9830\n",
      "Epoch 96/100\n",
      "5/5 [==============================] - 0s 10ms/step - loss: 27.7839 - val_loss: 44.9298\n",
      "Epoch 97/100\n",
      "5/5 [==============================] - 0s 11ms/step - loss: 27.6918 - val_loss: 44.9555\n",
      "Epoch 98/100\n",
      "5/5 [==============================] - 0s 10ms/step - loss: 27.6250 - val_loss: 45.0121\n",
      "Epoch 99/100\n",
      "5/5 [==============================] - 0s 8ms/step - loss: 27.5536 - val_loss: 45.0247\n",
      "Epoch 100/100\n",
      "5/5 [==============================] - 0s 10ms/step - loss: 27.5238 - val_loss: 45.0018\n"
     ]
    }
   ],
   "source": [
    "history=model.fit(x_train_scaled,y_train,epochs=100,batch_size=32,validation_split=0.2,callbacks=[early_stopping])"
   ]
  },
  {
   "cell_type": "markdown",
   "id": "60e3ac7f",
   "metadata": {},
   "source": [
    "# Graph Representation Of Training Loss & Validation Loss"
   ]
  },
  {
   "cell_type": "code",
   "execution_count": 409,
   "id": "9f4e346f",
   "metadata": {},
   "outputs": [
    {
     "data": {
      "image/png": "[encoded data removed]",
      "text/plain": [
       "<Figure size 1200x600 with 1 Axes>"
      ]
     },
     "metadata": {},
     "output_type": "display_data"
    }
   ],
   "source": [
    "plt.figure(figsize=(12,6))\n",
    "plt.plot(history.history['loss'])\n",
    "plt.plot(history.history['val_loss'])\n",
    "plt.title('Model Loss')\n",
    "plt.xlabel('Epoch')\n",
    "plt.ylabel('Loss')\n",
    "plt.legend(['Train','Validation'],loc='upper right')\n",
    "plt.show()"
   ]
  },
  {
   "cell_type": "markdown",
   "id": "8775dff9",
   "metadata": {},
   "source": [
    "# Calculation of Test Loss"
   ]
  },
  {
   "cell_type": "code",
   "execution_count": 410,
   "id": "ac94f274",
   "metadata": {},
   "outputs": [
    {
     "name": "stdout",
     "output_type": "stream",
     "text": [
      "2/2 [==============================] - 0s 8ms/step - loss: 45.7876\n",
      "Test loss:45.78762435913086\n"
     ]
    }
   ],
   "source": [
    "loss=model.evaluate(x_test_scaled,y_test)\n",
    "print(f\"Test loss:{loss}\")"
   ]
  },
  {
   "cell_type": "code",
   "execution_count": null,
   "id": "1420858c",
   "metadata": {},
   "outputs": [],
   "source": []
  }
 ],
 "metadata": {
  "kernelspec": {
   "display_name": "Python 3 (ipykernel)",
   "language": "python",
   "name": "python3"
  },
  "language_info": {
   "codemirror_mode": {
    "name": "ipython",
    "version": 3
   },
   "file_extension": ".py",
   "mimetype": "text/x-python",
   "name": "python",
   "nbconvert_exporter": "python",
   "pygments_lexer": "ipython3",
   "version": "3.9.13"
  }
 },
 "nbformat": 4,
 "nbformat_minor": 5
}
